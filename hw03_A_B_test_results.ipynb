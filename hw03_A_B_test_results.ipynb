{
  "cells": [
    {
      "cell_type": "markdown",
      "metadata": {
        "id": "view-in-github",
        "colab_type": "text"
      },
      "source": [
        "<a href=\"https://colab.research.google.com/github/zhus-dika/math_home_works/blob/main/hw03_A_B_test_results.ipynb\" target=\"_parent\"><img src=\"https://colab.research.google.com/assets/colab-badge.svg\" alt=\"Open In Colab\"/></a>"
      ]
    },
    {
      "cell_type": "markdown",
      "metadata": {
        "id": "_yMSBmQz4Int"
      },
      "source": [
        "<center>\n",
        "<img src=\"https://camo.githubusercontent.com/ad20aaaa48264581c46aa126919dbb72060ebd98cffe015523549b4974843ae5/68747470733a2f2f7261772e67697468756275736572636f6e74656e742e636f6d2f46556c79616e6b696e2f725f70726f626162696c6974792f6d61737465722f656e645f73656d696e6172732f73656d5f362f73747564656e745f746561636865725f646973742e706e67\" height=\"200\">\n",
        "\n",
        "# Прикладаная статистика: домашнее задание 3\n",
        "</center>\n",
        "\n",
        "> Если орел — я выиграла, если решка — ты проиграл.\n",
        "\n",
        "$\\qquad$ Рейчел из друзей\n"
      ]
    },
    {
      "cell_type": "markdown",
      "metadata": {
        "id": "WZX9FQ1n4Iny"
      },
      "source": [
        "**ФИО:**\n",
        "\n",
        "\n",
        "## Общая информация\n",
        "\n",
        "\n",
        "__Дата выдачи:__ 24.05.2023\n",
        "\n",
        "__Дедлайн:__ 23:59MSK 11.06.2023"
      ]
    },
    {
      "cell_type": "markdown",
      "metadata": {
        "id": "Z4aWcpIG4Inz"
      },
      "source": [
        "# Результаты A-B теста\n",
        "\n",
        "В данном задании вам нужно будет проанализировать АБ тест, проведенный на реальных пользователях Яндекса.\n",
        "\n",
        "### Описание данных:\n",
        "\n",
        "* `userID` — уникальный идентификатор пользователя\n",
        "* `browser` — браузер, который использовал userID\n",
        "* `slot` — в каком статусе пользователь участвовал в исследовании (exp = видел измененную страницу, control = видел неизменную страницу)\n",
        "* `n_clicks` — количество кликов, которые пользователь совершил за n_queries\n",
        "* `n_queries` — количество запросов, который совершил userID, пользуясь браузером browser\n",
        "* `n_nonclk_queries` — количество запросов пользователя, в которых им не было совершено ни одного клика\n",
        "\n",
        "Обращаем ваше внимание, что не все люди используют только один браузер, поэтому в столбце userID есть повторяющиеся идентификаторы. В предлагаемых данных уникальным является сочетание userID и browser."
      ]
    },
    {
      "cell_type": "code",
      "execution_count": 2,
      "metadata": {
        "id": "Wl_JzTTI4Inz"
      },
      "outputs": [],
      "source": [
        "import numpy as np\n",
        "import pandas as pd\n",
        "from scipy import stats as sts\n",
        "import seaborn as sns\n",
        "import matplotlib.pyplot as plt"
      ]
    },
    {
      "cell_type": "code",
      "execution_count": 4,
      "metadata": {
        "colab": {
          "base_uri": "https://localhost:8080/",
          "height": 223
        },
        "id": "6NeE9Myq4In1",
        "outputId": "486532ee-12af-4b10-d794-5f642682ef87"
      },
      "outputs": [
        {
          "output_type": "stream",
          "name": "stdout",
          "text": [
            "(267005, 8)\n"
          ]
        },
        {
          "output_type": "execute_result",
          "data": {
            "text/plain": [
              "   userID     browser     slot  n_clicks  n_queries  n_nonclk_queries  \\\n",
              "0       1  Browser #2      exp        23         32              19.0   \n",
              "1       3  Browser #4      exp         3          4               2.0   \n",
              "2       5  Browser #4      exp        29         35              16.0   \n",
              "3       6  Browser #4  control        12          6               0.0   \n",
              "4       7  Browser #4      exp        54         68              30.0   \n",
              "\n",
              "   click_per_queries  empty_query_share  \n",
              "0           0.718750           0.593750  \n",
              "1           0.750000           0.500000  \n",
              "2           0.828571           0.457143  \n",
              "3           2.000000           0.000000  \n",
              "4           0.794118           0.441176  "
            ],
            "text/html": [
              "\n",
              "  <div id=\"df-b8534148-4e6b-4977-9ceb-e6f31c2d6f9e\">\n",
              "    <div class=\"colab-df-container\">\n",
              "      <div>\n",
              "<style scoped>\n",
              "    .dataframe tbody tr th:only-of-type {\n",
              "        vertical-align: middle;\n",
              "    }\n",
              "\n",
              "    .dataframe tbody tr th {\n",
              "        vertical-align: top;\n",
              "    }\n",
              "\n",
              "    .dataframe thead th {\n",
              "        text-align: right;\n",
              "    }\n",
              "</style>\n",
              "<table border=\"1\" class=\"dataframe\">\n",
              "  <thead>\n",
              "    <tr style=\"text-align: right;\">\n",
              "      <th></th>\n",
              "      <th>userID</th>\n",
              "      <th>browser</th>\n",
              "      <th>slot</th>\n",
              "      <th>n_clicks</th>\n",
              "      <th>n_queries</th>\n",
              "      <th>n_nonclk_queries</th>\n",
              "      <th>click_per_queries</th>\n",
              "      <th>empty_query_share</th>\n",
              "    </tr>\n",
              "  </thead>\n",
              "  <tbody>\n",
              "    <tr>\n",
              "      <th>0</th>\n",
              "      <td>1</td>\n",
              "      <td>Browser #2</td>\n",
              "      <td>exp</td>\n",
              "      <td>23</td>\n",
              "      <td>32</td>\n",
              "      <td>19.0</td>\n",
              "      <td>0.718750</td>\n",
              "      <td>0.593750</td>\n",
              "    </tr>\n",
              "    <tr>\n",
              "      <th>1</th>\n",
              "      <td>3</td>\n",
              "      <td>Browser #4</td>\n",
              "      <td>exp</td>\n",
              "      <td>3</td>\n",
              "      <td>4</td>\n",
              "      <td>2.0</td>\n",
              "      <td>0.750000</td>\n",
              "      <td>0.500000</td>\n",
              "    </tr>\n",
              "    <tr>\n",
              "      <th>2</th>\n",
              "      <td>5</td>\n",
              "      <td>Browser #4</td>\n",
              "      <td>exp</td>\n",
              "      <td>29</td>\n",
              "      <td>35</td>\n",
              "      <td>16.0</td>\n",
              "      <td>0.828571</td>\n",
              "      <td>0.457143</td>\n",
              "    </tr>\n",
              "    <tr>\n",
              "      <th>3</th>\n",
              "      <td>6</td>\n",
              "      <td>Browser #4</td>\n",
              "      <td>control</td>\n",
              "      <td>12</td>\n",
              "      <td>6</td>\n",
              "      <td>0.0</td>\n",
              "      <td>2.000000</td>\n",
              "      <td>0.000000</td>\n",
              "    </tr>\n",
              "    <tr>\n",
              "      <th>4</th>\n",
              "      <td>7</td>\n",
              "      <td>Browser #4</td>\n",
              "      <td>exp</td>\n",
              "      <td>54</td>\n",
              "      <td>68</td>\n",
              "      <td>30.0</td>\n",
              "      <td>0.794118</td>\n",
              "      <td>0.441176</td>\n",
              "    </tr>\n",
              "  </tbody>\n",
              "</table>\n",
              "</div>\n",
              "      <button class=\"colab-df-convert\" onclick=\"convertToInteractive('df-b8534148-4e6b-4977-9ceb-e6f31c2d6f9e')\"\n",
              "              title=\"Convert this dataframe to an interactive table.\"\n",
              "              style=\"display:none;\">\n",
              "        \n",
              "  <svg xmlns=\"http://www.w3.org/2000/svg\" height=\"24px\"viewBox=\"0 0 24 24\"\n",
              "       width=\"24px\">\n",
              "    <path d=\"M0 0h24v24H0V0z\" fill=\"none\"/>\n",
              "    <path d=\"M18.56 5.44l.94 2.06.94-2.06 2.06-.94-2.06-.94-.94-2.06-.94 2.06-2.06.94zm-11 1L8.5 8.5l.94-2.06 2.06-.94-2.06-.94L8.5 2.5l-.94 2.06-2.06.94zm10 10l.94 2.06.94-2.06 2.06-.94-2.06-.94-.94-2.06-.94 2.06-2.06.94z\"/><path d=\"M17.41 7.96l-1.37-1.37c-.4-.4-.92-.59-1.43-.59-.52 0-1.04.2-1.43.59L10.3 9.45l-7.72 7.72c-.78.78-.78 2.05 0 2.83L4 21.41c.39.39.9.59 1.41.59.51 0 1.02-.2 1.41-.59l7.78-7.78 2.81-2.81c.8-.78.8-2.07 0-2.86zM5.41 20L4 18.59l7.72-7.72 1.47 1.35L5.41 20z\"/>\n",
              "  </svg>\n",
              "      </button>\n",
              "      \n",
              "  <style>\n",
              "    .colab-df-container {\n",
              "      display:flex;\n",
              "      flex-wrap:wrap;\n",
              "      gap: 12px;\n",
              "    }\n",
              "\n",
              "    .colab-df-convert {\n",
              "      background-color: #E8F0FE;\n",
              "      border: none;\n",
              "      border-radius: 50%;\n",
              "      cursor: pointer;\n",
              "      display: none;\n",
              "      fill: #1967D2;\n",
              "      height: 32px;\n",
              "      padding: 0 0 0 0;\n",
              "      width: 32px;\n",
              "    }\n",
              "\n",
              "    .colab-df-convert:hover {\n",
              "      background-color: #E2EBFA;\n",
              "      box-shadow: 0px 1px 2px rgba(60, 64, 67, 0.3), 0px 1px 3px 1px rgba(60, 64, 67, 0.15);\n",
              "      fill: #174EA6;\n",
              "    }\n",
              "\n",
              "    [theme=dark] .colab-df-convert {\n",
              "      background-color: #3B4455;\n",
              "      fill: #D2E3FC;\n",
              "    }\n",
              "\n",
              "    [theme=dark] .colab-df-convert:hover {\n",
              "      background-color: #434B5C;\n",
              "      box-shadow: 0px 1px 3px 1px rgba(0, 0, 0, 0.15);\n",
              "      filter: drop-shadow(0px 1px 2px rgba(0, 0, 0, 0.3));\n",
              "      fill: #FFFFFF;\n",
              "    }\n",
              "  </style>\n",
              "\n",
              "      <script>\n",
              "        const buttonEl =\n",
              "          document.querySelector('#df-b8534148-4e6b-4977-9ceb-e6f31c2d6f9e button.colab-df-convert');\n",
              "        buttonEl.style.display =\n",
              "          google.colab.kernel.accessAllowed ? 'block' : 'none';\n",
              "\n",
              "        async function convertToInteractive(key) {\n",
              "          const element = document.querySelector('#df-b8534148-4e6b-4977-9ceb-e6f31c2d6f9e');\n",
              "          const dataTable =\n",
              "            await google.colab.kernel.invokeFunction('convertToInteractive',\n",
              "                                                     [key], {});\n",
              "          if (!dataTable) return;\n",
              "\n",
              "          const docLinkHtml = 'Like what you see? Visit the ' +\n",
              "            '<a target=\"_blank\" href=https://colab.research.google.com/notebooks/data_table.ipynb>data table notebook</a>'\n",
              "            + ' to learn more about interactive tables.';\n",
              "          element.innerHTML = '';\n",
              "          dataTable['output_type'] = 'display_data';\n",
              "          await google.colab.output.renderOutput(dataTable, element);\n",
              "          const docLink = document.createElement('div');\n",
              "          docLink.innerHTML = docLinkHtml;\n",
              "          element.appendChild(docLink);\n",
              "        }\n",
              "      </script>\n",
              "    </div>\n",
              "  </div>\n",
              "  "
            ]
          },
          "metadata": {},
          "execution_count": 4
        }
      ],
      "source": [
        "df = pd.read_csv('ab_browser_test.csv',sep=',')\n",
        "\n",
        "df['click_per_queries'] = df['n_clicks']/df['n_queries']\n",
        "df['empty_query_share'] = df['n_nonclk_queries']/df['n_queries']\n",
        "\n",
        "print(df.shape)\n",
        "df.head()"
      ]
    },
    {
      "cell_type": "markdown",
      "metadata": {
        "id": "YJXzJL4O4In1"
      },
      "source": [
        "Будем работать с числом кликов на количество пользовательских сессий.\n",
        "\n",
        "> Вообще, это ratio-метрика. Из-за этого у неё будут довольно тяжёлые хвосты. Мы увидим это ниже в пункте про бутстрэп. И к ней нужен особый подход, о котором мы поговорим на лекции. Пока что будем это игнорировать. В целом, можно откатиться к кликам и работать с их средним, но методологически правильнее отнормировать их на число сессий."
      ]
    },
    {
      "cell_type": "markdown",
      "metadata": {
        "id": "Bu2y6QPk4In2"
      },
      "source": [
        "__[10 баллов]__ Посчитайте, насколько в группе exp больше пользовательских кликов по сравнению с группой control в процентах от числа кликов в контрольной группе."
      ]
    },
    {
      "cell_type": "code",
      "source": [
        "df_exp = df[df.slot == 'exp']\n",
        "df_control = df[df.slot == 'control']"
      ],
      "metadata": {
        "id": "VO_f2Dzx_aPs"
      },
      "execution_count": 6,
      "outputs": []
    },
    {
      "cell_type": "code",
      "execution_count": 7,
      "metadata": {
        "colab": {
          "base_uri": "https://localhost:8080/"
        },
        "id": "F8qILFny4In2",
        "outputId": "8bce952d-ec98-409c-d352-128c4e15793a"
      },
      "outputs": [
        {
          "output_type": "execute_result",
          "data": {
            "text/plain": [
              "5.380884644263917"
            ]
          },
          "metadata": {},
          "execution_count": 7
        }
      ],
      "source": [
        "(df_exp.click_per_queries.sum() / df_control.click_per_queries.sum() - 1) * 100"
      ]
    },
    {
      "cell_type": "markdown",
      "metadata": {
        "id": "XXReYT4E4In2"
      },
      "source": [
        "Поскольку данных достаточно много (порядка полумиллиона уникальных пользователей), отличие в несколько процентов может быть не только практически значимым, но и значимым статистически. Последнее утверждение нуждается в дополнительной проверке."
      ]
    },
    {
      "cell_type": "markdown",
      "metadata": {
        "id": "rCeedtjy4In3"
      },
      "source": [
        "## Часть 1: анализ АБ-теста"
      ]
    },
    {
      "cell_type": "markdown",
      "metadata": {
        "id": "I3p95XCb4In3"
      },
      "source": [
        "__[10 баллов]__ Давайте внимательнее посмотрим на то, что происходит с кликами в наших пользовательских сессиях. Постройте для контрольной и тестовой групп визуализации и ответьте на следующие вопросы.\n",
        "\n",
        "- Правда ли, что в данных есть много выбросов?\n",
        "- Правда ли, что данные пришли из одного распределения и в группах отличия только в сдвиге (для ответа на этот вопрос постройте для обеих групп квантили распределений с шагом в 0.1 и сравните их между собой + сравните гистограмы по форме)\n",
        "- Как думаете, какие тесты применимы здесь для проведения АБ?"
      ]
    },
    {
      "cell_type": "markdown",
      "metadata": {
        "id": "9HQ9iHfq4In3"
      },
      "source": [
        "**Ответы:**\n",
        "\n",
        "🦒 Да, действительно выбросов много, графически это можно заметить на графиках сравнения релплотов.\n",
        "\n",
        "🦤 Да, согласно графикам для квантилей, можно увидеть небольшой сдвиг вверх для переменной `click_per_queries` в экспериментольной группе.\n",
        "\n",
        "🪲 z-тест не подойдет, потому, что он плохо работает с данными, которые содержат много выбросов. Можно попробовать критерий Манна-Уитни."
      ]
    },
    {
      "cell_type": "code",
      "source": [
        "df.describe()"
      ],
      "metadata": {
        "colab": {
          "base_uri": "https://localhost:8080/",
          "height": 300
        },
        "id": "vSlqX3dn15et",
        "outputId": "514a3f61-7fc2-4275-9211-10c3453e989b"
      },
      "execution_count": 13,
      "outputs": [
        {
          "output_type": "execute_result",
          "data": {
            "text/plain": [
              "              userID       n_clicks      n_queries  n_nonclk_queries  \\\n",
              "count  267005.000000  267005.000000  267005.000000     267004.000000   \n",
              "mean   140370.612906      18.051707      16.721646          7.168020   \n",
              "std     81218.663853      25.960595      20.693874         10.391557   \n",
              "min         1.000000       0.000000       1.000000          0.000000   \n",
              "25%     70043.000000       3.000000       4.000000          1.000000   \n",
              "50%    140124.000000      10.000000      10.000000          4.000000   \n",
              "75%    210669.000000      23.000000      22.000000          9.000000   \n",
              "max    281928.000000     863.000000     665.000000        581.000000   \n",
              "\n",
              "       click_per_queries  empty_query_share  \n",
              "count      267005.000000      267004.000000  \n",
              "mean            1.075740           0.415362  \n",
              "std             0.845868           0.273316  \n",
              "min             0.000000           0.000000  \n",
              "25%             0.600000           0.230769  \n",
              "50%             1.000000           0.400000  \n",
              "75%             1.352941           0.571429  \n",
              "max            60.000000           1.000000  "
            ],
            "text/html": [
              "\n",
              "  <div id=\"df-ee14c80c-71de-4dcc-9e2a-85ee8ea541ff\">\n",
              "    <div class=\"colab-df-container\">\n",
              "      <div>\n",
              "<style scoped>\n",
              "    .dataframe tbody tr th:only-of-type {\n",
              "        vertical-align: middle;\n",
              "    }\n",
              "\n",
              "    .dataframe tbody tr th {\n",
              "        vertical-align: top;\n",
              "    }\n",
              "\n",
              "    .dataframe thead th {\n",
              "        text-align: right;\n",
              "    }\n",
              "</style>\n",
              "<table border=\"1\" class=\"dataframe\">\n",
              "  <thead>\n",
              "    <tr style=\"text-align: right;\">\n",
              "      <th></th>\n",
              "      <th>userID</th>\n",
              "      <th>n_clicks</th>\n",
              "      <th>n_queries</th>\n",
              "      <th>n_nonclk_queries</th>\n",
              "      <th>click_per_queries</th>\n",
              "      <th>empty_query_share</th>\n",
              "    </tr>\n",
              "  </thead>\n",
              "  <tbody>\n",
              "    <tr>\n",
              "      <th>count</th>\n",
              "      <td>267005.000000</td>\n",
              "      <td>267005.000000</td>\n",
              "      <td>267005.000000</td>\n",
              "      <td>267004.000000</td>\n",
              "      <td>267005.000000</td>\n",
              "      <td>267004.000000</td>\n",
              "    </tr>\n",
              "    <tr>\n",
              "      <th>mean</th>\n",
              "      <td>140370.612906</td>\n",
              "      <td>18.051707</td>\n",
              "      <td>16.721646</td>\n",
              "      <td>7.168020</td>\n",
              "      <td>1.075740</td>\n",
              "      <td>0.415362</td>\n",
              "    </tr>\n",
              "    <tr>\n",
              "      <th>std</th>\n",
              "      <td>81218.663853</td>\n",
              "      <td>25.960595</td>\n",
              "      <td>20.693874</td>\n",
              "      <td>10.391557</td>\n",
              "      <td>0.845868</td>\n",
              "      <td>0.273316</td>\n",
              "    </tr>\n",
              "    <tr>\n",
              "      <th>min</th>\n",
              "      <td>1.000000</td>\n",
              "      <td>0.000000</td>\n",
              "      <td>1.000000</td>\n",
              "      <td>0.000000</td>\n",
              "      <td>0.000000</td>\n",
              "      <td>0.000000</td>\n",
              "    </tr>\n",
              "    <tr>\n",
              "      <th>25%</th>\n",
              "      <td>70043.000000</td>\n",
              "      <td>3.000000</td>\n",
              "      <td>4.000000</td>\n",
              "      <td>1.000000</td>\n",
              "      <td>0.600000</td>\n",
              "      <td>0.230769</td>\n",
              "    </tr>\n",
              "    <tr>\n",
              "      <th>50%</th>\n",
              "      <td>140124.000000</td>\n",
              "      <td>10.000000</td>\n",
              "      <td>10.000000</td>\n",
              "      <td>4.000000</td>\n",
              "      <td>1.000000</td>\n",
              "      <td>0.400000</td>\n",
              "    </tr>\n",
              "    <tr>\n",
              "      <th>75%</th>\n",
              "      <td>210669.000000</td>\n",
              "      <td>23.000000</td>\n",
              "      <td>22.000000</td>\n",
              "      <td>9.000000</td>\n",
              "      <td>1.352941</td>\n",
              "      <td>0.571429</td>\n",
              "    </tr>\n",
              "    <tr>\n",
              "      <th>max</th>\n",
              "      <td>281928.000000</td>\n",
              "      <td>863.000000</td>\n",
              "      <td>665.000000</td>\n",
              "      <td>581.000000</td>\n",
              "      <td>60.000000</td>\n",
              "      <td>1.000000</td>\n",
              "    </tr>\n",
              "  </tbody>\n",
              "</table>\n",
              "</div>\n",
              "      <button class=\"colab-df-convert\" onclick=\"convertToInteractive('df-ee14c80c-71de-4dcc-9e2a-85ee8ea541ff')\"\n",
              "              title=\"Convert this dataframe to an interactive table.\"\n",
              "              style=\"display:none;\">\n",
              "        \n",
              "  <svg xmlns=\"http://www.w3.org/2000/svg\" height=\"24px\"viewBox=\"0 0 24 24\"\n",
              "       width=\"24px\">\n",
              "    <path d=\"M0 0h24v24H0V0z\" fill=\"none\"/>\n",
              "    <path d=\"M18.56 5.44l.94 2.06.94-2.06 2.06-.94-2.06-.94-.94-2.06-.94 2.06-2.06.94zm-11 1L8.5 8.5l.94-2.06 2.06-.94-2.06-.94L8.5 2.5l-.94 2.06-2.06.94zm10 10l.94 2.06.94-2.06 2.06-.94-2.06-.94-.94-2.06-.94 2.06-2.06.94z\"/><path d=\"M17.41 7.96l-1.37-1.37c-.4-.4-.92-.59-1.43-.59-.52 0-1.04.2-1.43.59L10.3 9.45l-7.72 7.72c-.78.78-.78 2.05 0 2.83L4 21.41c.39.39.9.59 1.41.59.51 0 1.02-.2 1.41-.59l7.78-7.78 2.81-2.81c.8-.78.8-2.07 0-2.86zM5.41 20L4 18.59l7.72-7.72 1.47 1.35L5.41 20z\"/>\n",
              "  </svg>\n",
              "      </button>\n",
              "      \n",
              "  <style>\n",
              "    .colab-df-container {\n",
              "      display:flex;\n",
              "      flex-wrap:wrap;\n",
              "      gap: 12px;\n",
              "    }\n",
              "\n",
              "    .colab-df-convert {\n",
              "      background-color: #E8F0FE;\n",
              "      border: none;\n",
              "      border-radius: 50%;\n",
              "      cursor: pointer;\n",
              "      display: none;\n",
              "      fill: #1967D2;\n",
              "      height: 32px;\n",
              "      padding: 0 0 0 0;\n",
              "      width: 32px;\n",
              "    }\n",
              "\n",
              "    .colab-df-convert:hover {\n",
              "      background-color: #E2EBFA;\n",
              "      box-shadow: 0px 1px 2px rgba(60, 64, 67, 0.3), 0px 1px 3px 1px rgba(60, 64, 67, 0.15);\n",
              "      fill: #174EA6;\n",
              "    }\n",
              "\n",
              "    [theme=dark] .colab-df-convert {\n",
              "      background-color: #3B4455;\n",
              "      fill: #D2E3FC;\n",
              "    }\n",
              "\n",
              "    [theme=dark] .colab-df-convert:hover {\n",
              "      background-color: #434B5C;\n",
              "      box-shadow: 0px 1px 3px 1px rgba(0, 0, 0, 0.15);\n",
              "      filter: drop-shadow(0px 1px 2px rgba(0, 0, 0, 0.3));\n",
              "      fill: #FFFFFF;\n",
              "    }\n",
              "  </style>\n",
              "\n",
              "      <script>\n",
              "        const buttonEl =\n",
              "          document.querySelector('#df-ee14c80c-71de-4dcc-9e2a-85ee8ea541ff button.colab-df-convert');\n",
              "        buttonEl.style.display =\n",
              "          google.colab.kernel.accessAllowed ? 'block' : 'none';\n",
              "\n",
              "        async function convertToInteractive(key) {\n",
              "          const element = document.querySelector('#df-ee14c80c-71de-4dcc-9e2a-85ee8ea541ff');\n",
              "          const dataTable =\n",
              "            await google.colab.kernel.invokeFunction('convertToInteractive',\n",
              "                                                     [key], {});\n",
              "          if (!dataTable) return;\n",
              "\n",
              "          const docLinkHtml = 'Like what you see? Visit the ' +\n",
              "            '<a target=\"_blank\" href=https://colab.research.google.com/notebooks/data_table.ipynb>data table notebook</a>'\n",
              "            + ' to learn more about interactive tables.';\n",
              "          element.innerHTML = '';\n",
              "          dataTable['output_type'] = 'display_data';\n",
              "          await google.colab.output.renderOutput(dataTable, element);\n",
              "          const docLink = document.createElement('div');\n",
              "          docLink.innerHTML = docLinkHtml;\n",
              "          element.appendChild(docLink);\n",
              "        }\n",
              "      </script>\n",
              "    </div>\n",
              "  </div>\n",
              "  "
            ]
          },
          "metadata": {},
          "execution_count": 13
        }
      ]
    },
    {
      "cell_type": "code",
      "execution_count": 14,
      "metadata": {
        "id": "ClVc3OVG4In3",
        "colab": {
          "base_uri": "https://localhost:8080/",
          "height": 529
        },
        "outputId": "a8aeeb7d-8b67-4342-bba5-da40fb8f7049"
      },
      "outputs": [
        {
          "output_type": "display_data",
          "data": {
            "text/plain": [
              "<Figure size 598.25x500 with 1 Axes>"
            ],
            "image/png": "[encoded data removed]"
          },
          "metadata": {}
        }
      ],
      "source": [
        "sns.relplot(data=df, x='userID', y='click_per_queries', hue='slot', s=7)\n",
        "plt.title(f'Relplot for detect emissions')\n",
        "plt.xlabel('userID')\n",
        "plt.ylabel('click_per_queries')\n",
        "sns.set_style(\"ticks\",{'axes.grid' : True})"
      ]
    },
    {
      "cell_type": "code",
      "source": [
        "click_per_queries_quantiles = {'exp': [], 'control': []}\n",
        "\n",
        "for i in range(100):\n",
        "  click_per_queries_quantiles['exp'].append(df_exp.click_per_queries.quantile(0.01 * i))\n",
        "  click_per_queries_quantiles['control'].append(df_control.click_per_queries.quantile(0.01 * i))"
      ],
      "metadata": {
        "id": "cL13_Y5R6KMx"
      },
      "execution_count": 11,
      "outputs": []
    },
    {
      "cell_type": "code",
      "source": [
        "fig, ax = plt.subplots(figsize=(6, 6))\n",
        "ax.plot(click_per_queries_quantiles['exp'], label=\"exp\", linewidth=1)\n",
        "ax.plot(click_per_queries_quantiles['control'], label=\"control\", linewidth=1)\n",
        "ax.legend()\n",
        "plt.title(f'Distribution of quantiles of click_per_queries')\n",
        "plt.xlabel('quantile')\n",
        "plt.ylabel('click_per_queries')\n",
        "plt.show()"
      ],
      "metadata": {
        "colab": {
          "base_uri": "https://localhost:8080/",
          "height": 564
        },
        "id": "wKOKmtwVzTOE",
        "outputId": "06a06f31-b2a7-4e9b-820d-792db5f33861"
      },
      "execution_count": 12,
      "outputs": [
        {
          "output_type": "display_data",
          "data": {
            "text/plain": [
              "<Figure size 600x600 with 1 Axes>"
            ],
            "image/png": "[encoded data removed]"
          },
          "metadata": {}
        }
      ]
    },
    {
      "cell_type": "markdown",
      "metadata": {
        "id": "O-LXFTL74In4"
      },
      "source": [
        "__[10 баллов]__ Скорее всего, в пункте выше вы написали, что $z$-тест нам не подходит из-за выбросов. Однако, мы не можем наверняка знать, насколько серьёзное влияние эти выбросы оказали на ЦПТ и сломали ли они её. Если посчитать по выброкам средние и медианы, они окажутся очень похожими.\n",
        "\n",
        "Бутстрап — это асимптотическая техника для получения критических значений статистики. Давайте проведём следующую процедуру. Ограничимся в рамках неё контрольной группой. Поскольку мы не знаем истинного распределения генеральной совокупности, мы можем применить бутстрэп, чтобы понять, как распределена z-статистика и сравнить её распределение с нормальным.\n",
        "\n",
        "Поскольку мы знаем, что $\\text{Var}(\\bar X_n) = \\frac{\\sigma^2}{n}$, нам не надо будет делать бутстрэп в бутстрэпе. Когда мы знаем для нашей статистики форму дисперсии, бутстрэп называется __параметрическим.__\n",
        "\n",
        "1. Получите из данных `n_boot_samples` псевдовыборок,\n",
        "2. По каждой из этих выборок посчитайте среднее и его дисперсию,\n",
        "3. Рассчитайте значение $z$-статистики,\n",
        "4. Для получившегося вектора из $z$-статистик постройте `qq-plot` с помощью ` scipy.stats.probplot` для нормального распределения.\n",
        "\n",
        "Сделайте выводы."
      ]
    },
    {
      "cell_type": "code",
      "source": [
        "df_exp.describe()"
      ],
      "metadata": {
        "colab": {
          "base_uri": "https://localhost:8080/",
          "height": 300
        },
        "id": "QKd1RqVCGE7Q",
        "outputId": "b7281d13-ae3c-4654-cafd-b475ae761492"
      },
      "execution_count": 15,
      "outputs": [
        {
          "output_type": "execute_result",
          "data": {
            "text/plain": [
              "              userID       n_clicks      n_queries  n_nonclk_queries  \\\n",
              "count  132874.000000  132874.000000  132874.000000     132874.000000   \n",
              "mean   140400.402562      18.213924      16.492655          6.893674   \n",
              "std     81185.125504      25.896140      20.322706         10.048759   \n",
              "min         1.000000       0.000000       1.000000          0.000000   \n",
              "25%     70270.000000       3.000000       4.000000          1.000000   \n",
              "50%    140088.500000      10.000000      10.000000          4.000000   \n",
              "75%    210756.000000      23.000000      21.000000          9.000000   \n",
              "max    281927.000000     776.000000     665.000000        581.000000   \n",
              "\n",
              "       click_per_queries  empty_query_share  \n",
              "count      132874.000000      132874.000000  \n",
              "mean            1.109145           0.400286  \n",
              "std             0.847933           0.269331  \n",
              "min             0.000000           0.000000  \n",
              "25%             0.637931           0.214286  \n",
              "50%             1.000000           0.388889  \n",
              "75%             1.400000           0.555556  \n",
              "max            52.000000           1.000000  "
            ],
            "text/html": [
              "\n",
              "  <div id=\"df-921dc764-02fe-4219-918f-2f671fd35dc4\">\n",
              "    <div class=\"colab-df-container\">\n",
              "      <div>\n",
              "<style scoped>\n",
              "    .dataframe tbody tr th:only-of-type {\n",
              "        vertical-align: middle;\n",
              "    }\n",
              "\n",
              "    .dataframe tbody tr th {\n",
              "        vertical-align: top;\n",
              "    }\n",
              "\n",
              "    .dataframe thead th {\n",
              "        text-align: right;\n",
              "    }\n",
              "</style>\n",
              "<table border=\"1\" class=\"dataframe\">\n",
              "  <thead>\n",
              "    <tr style=\"text-align: right;\">\n",
              "      <th></th>\n",
              "      <th>userID</th>\n",
              "      <th>n_clicks</th>\n",
              "      <th>n_queries</th>\n",
              "      <th>n_nonclk_queries</th>\n",
              "      <th>click_per_queries</th>\n",
              "      <th>empty_query_share</th>\n",
              "    </tr>\n",
              "  </thead>\n",
              "  <tbody>\n",
              "    <tr>\n",
              "      <th>count</th>\n",
              "      <td>132874.000000</td>\n",
              "      <td>132874.000000</td>\n",
              "      <td>132874.000000</td>\n",
              "      <td>132874.000000</td>\n",
              "      <td>132874.000000</td>\n",
              "      <td>132874.000000</td>\n",
              "    </tr>\n",
              "    <tr>\n",
              "      <th>mean</th>\n",
              "      <td>140400.402562</td>\n",
              "      <td>18.213924</td>\n",
              "      <td>16.492655</td>\n",
              "      <td>6.893674</td>\n",
              "      <td>1.109145</td>\n",
              "      <td>0.400286</td>\n",
              "    </tr>\n",
              "    <tr>\n",
              "      <th>std</th>\n",
              "      <td>81185.125504</td>\n",
              "      <td>25.896140</td>\n",
              "      <td>20.322706</td>\n",
              "      <td>10.048759</td>\n",
              "      <td>0.847933</td>\n",
              "      <td>0.269331</td>\n",
              "    </tr>\n",
              "    <tr>\n",
              "      <th>min</th>\n",
              "      <td>1.000000</td>\n",
              "      <td>0.000000</td>\n",
              "      <td>1.000000</td>\n",
              "      <td>0.000000</td>\n",
              "      <td>0.000000</td>\n",
              "      <td>0.000000</td>\n",
              "    </tr>\n",
              "    <tr>\n",
              "      <th>25%</th>\n",
              "      <td>70270.000000</td>\n",
              "      <td>3.000000</td>\n",
              "      <td>4.000000</td>\n",
              "      <td>1.000000</td>\n",
              "      <td>0.637931</td>\n",
              "      <td>0.214286</td>\n",
              "    </tr>\n",
              "    <tr>\n",
              "      <th>50%</th>\n",
              "      <td>140088.500000</td>\n",
              "      <td>10.000000</td>\n",
              "      <td>10.000000</td>\n",
              "      <td>4.000000</td>\n",
              "      <td>1.000000</td>\n",
              "      <td>0.388889</td>\n",
              "    </tr>\n",
              "    <tr>\n",
              "      <th>75%</th>\n",
              "      <td>210756.000000</td>\n",
              "      <td>23.000000</td>\n",
              "      <td>21.000000</td>\n",
              "      <td>9.000000</td>\n",
              "      <td>1.400000</td>\n",
              "      <td>0.555556</td>\n",
              "    </tr>\n",
              "    <tr>\n",
              "      <th>max</th>\n",
              "      <td>281927.000000</td>\n",
              "      <td>776.000000</td>\n",
              "      <td>665.000000</td>\n",
              "      <td>581.000000</td>\n",
              "      <td>52.000000</td>\n",
              "      <td>1.000000</td>\n",
              "    </tr>\n",
              "  </tbody>\n",
              "</table>\n",
              "</div>\n",
              "      <button class=\"colab-df-convert\" onclick=\"convertToInteractive('df-921dc764-02fe-4219-918f-2f671fd35dc4')\"\n",
              "              title=\"Convert this dataframe to an interactive table.\"\n",
              "              style=\"display:none;\">\n",
              "        \n",
              "  <svg xmlns=\"http://www.w3.org/2000/svg\" height=\"24px\"viewBox=\"0 0 24 24\"\n",
              "       width=\"24px\">\n",
              "    <path d=\"M0 0h24v24H0V0z\" fill=\"none\"/>\n",
              "    <path d=\"M18.56 5.44l.94 2.06.94-2.06 2.06-.94-2.06-.94-.94-2.06-.94 2.06-2.06.94zm-11 1L8.5 8.5l.94-2.06 2.06-.94-2.06-.94L8.5 2.5l-.94 2.06-2.06.94zm10 10l.94 2.06.94-2.06 2.06-.94-2.06-.94-.94-2.06-.94 2.06-2.06.94z\"/><path d=\"M17.41 7.96l-1.37-1.37c-.4-.4-.92-.59-1.43-.59-.52 0-1.04.2-1.43.59L10.3 9.45l-7.72 7.72c-.78.78-.78 2.05 0 2.83L4 21.41c.39.39.9.59 1.41.59.51 0 1.02-.2 1.41-.59l7.78-7.78 2.81-2.81c.8-.78.8-2.07 0-2.86zM5.41 20L4 18.59l7.72-7.72 1.47 1.35L5.41 20z\"/>\n",
              "  </svg>\n",
              "      </button>\n",
              "      \n",
              "  <style>\n",
              "    .colab-df-container {\n",
              "      display:flex;\n",
              "      flex-wrap:wrap;\n",
              "      gap: 12px;\n",
              "    }\n",
              "\n",
              "    .colab-df-convert {\n",
              "      background-color: #E8F0FE;\n",
              "      border: none;\n",
              "      border-radius: 50%;\n",
              "      cursor: pointer;\n",
              "      display: none;\n",
              "      fill: #1967D2;\n",
              "      height: 32px;\n",
              "      padding: 0 0 0 0;\n",
              "      width: 32px;\n",
              "    }\n",
              "\n",
              "    .colab-df-convert:hover {\n",
              "      background-color: #E2EBFA;\n",
              "      box-shadow: 0px 1px 2px rgba(60, 64, 67, 0.3), 0px 1px 3px 1px rgba(60, 64, 67, 0.15);\n",
              "      fill: #174EA6;\n",
              "    }\n",
              "\n",
              "    [theme=dark] .colab-df-convert {\n",
              "      background-color: #3B4455;\n",
              "      fill: #D2E3FC;\n",
              "    }\n",
              "\n",
              "    [theme=dark] .colab-df-convert:hover {\n",
              "      background-color: #434B5C;\n",
              "      box-shadow: 0px 1px 3px 1px rgba(0, 0, 0, 0.15);\n",
              "      filter: drop-shadow(0px 1px 2px rgba(0, 0, 0, 0.3));\n",
              "      fill: #FFFFFF;\n",
              "    }\n",
              "  </style>\n",
              "\n",
              "      <script>\n",
              "        const buttonEl =\n",
              "          document.querySelector('#df-921dc764-02fe-4219-918f-2f671fd35dc4 button.colab-df-convert');\n",
              "        buttonEl.style.display =\n",
              "          google.colab.kernel.accessAllowed ? 'block' : 'none';\n",
              "\n",
              "        async function convertToInteractive(key) {\n",
              "          const element = document.querySelector('#df-921dc764-02fe-4219-918f-2f671fd35dc4');\n",
              "          const dataTable =\n",
              "            await google.colab.kernel.invokeFunction('convertToInteractive',\n",
              "                                                     [key], {});\n",
              "          if (!dataTable) return;\n",
              "\n",
              "          const docLinkHtml = 'Like what you see? Visit the ' +\n",
              "            '<a target=\"_blank\" href=https://colab.research.google.com/notebooks/data_table.ipynb>data table notebook</a>'\n",
              "            + ' to learn more about interactive tables.';\n",
              "          element.innerHTML = '';\n",
              "          dataTable['output_type'] = 'display_data';\n",
              "          await google.colab.output.renderOutput(dataTable, element);\n",
              "          const docLink = document.createElement('div');\n",
              "          docLink.innerHTML = docLinkHtml;\n",
              "          element.appendChild(docLink);\n",
              "        }\n",
              "      </script>\n",
              "    </div>\n",
              "  </div>\n",
              "  "
            ]
          },
          "metadata": {},
          "execution_count": 15
        }
      ]
    },
    {
      "cell_type": "code",
      "source": [
        "df_control.describe()"
      ],
      "metadata": {
        "id": "0nfsVu6xGIey",
        "outputId": "9bfd4ea9-f34a-4389-8357-e71684d496f9",
        "colab": {
          "base_uri": "https://localhost:8080/",
          "height": 300
        }
      },
      "execution_count": 16,
      "outputs": [
        {
          "output_type": "execute_result",
          "data": {
            "text/plain": [
              "              userID       n_clicks      n_queries  n_nonclk_queries  \\\n",
              "count  134131.000000  134131.000000  134131.000000     134130.000000   \n",
              "mean   140341.102422      17.891010      16.948491          7.439797   \n",
              "std     81252.166116      26.023389      21.052734         10.713455   \n",
              "min         6.000000       0.000000       1.000000          0.000000   \n",
              "25%     69846.000000       3.000000       4.000000          1.000000   \n",
              "50%    140148.000000       9.000000      10.000000          4.000000   \n",
              "75%    210581.500000      23.000000      22.000000         10.000000   \n",
              "max    281928.000000     863.000000     435.000000        386.000000   \n",
              "\n",
              "       click_per_queries  empty_query_share  \n",
              "count      134131.000000      134130.000000  \n",
              "mean            1.042647           0.430298  \n",
              "std             0.842514           0.276399  \n",
              "min             0.000000           0.000000  \n",
              "25%             0.566667           0.250000  \n",
              "50%             0.980769           0.416667  \n",
              "75%             1.333333           0.600000  \n",
              "max            60.000000           1.000000  "
            ],
            "text/html": [
              "\n",
              "  <div id=\"df-f87a07ea-c738-4d23-9ba3-1a6ad959f917\">\n",
              "    <div class=\"colab-df-container\">\n",
              "      <div>\n",
              "<style scoped>\n",
              "    .dataframe tbody tr th:only-of-type {\n",
              "        vertical-align: middle;\n",
              "    }\n",
              "\n",
              "    .dataframe tbody tr th {\n",
              "        vertical-align: top;\n",
              "    }\n",
              "\n",
              "    .dataframe thead th {\n",
              "        text-align: right;\n",
              "    }\n",
              "</style>\n",
              "<table border=\"1\" class=\"dataframe\">\n",
              "  <thead>\n",
              "    <tr style=\"text-align: right;\">\n",
              "      <th></th>\n",
              "      <th>userID</th>\n",
              "      <th>n_clicks</th>\n",
              "      <th>n_queries</th>\n",
              "      <th>n_nonclk_queries</th>\n",
              "      <th>click_per_queries</th>\n",
              "      <th>empty_query_share</th>\n",
              "    </tr>\n",
              "  </thead>\n",
              "  <tbody>\n",
              "    <tr>\n",
              "      <th>count</th>\n",
              "      <td>134131.000000</td>\n",
              "      <td>134131.000000</td>\n",
              "      <td>134131.000000</td>\n",
              "      <td>134130.000000</td>\n",
              "      <td>134131.000000</td>\n",
              "      <td>134130.000000</td>\n",
              "    </tr>\n",
              "    <tr>\n",
              "      <th>mean</th>\n",
              "      <td>140341.102422</td>\n",
              "      <td>17.891010</td>\n",
              "      <td>16.948491</td>\n",
              "      <td>7.439797</td>\n",
              "      <td>1.042647</td>\n",
              "      <td>0.430298</td>\n",
              "    </tr>\n",
              "    <tr>\n",
              "      <th>std</th>\n",
              "      <td>81252.166116</td>\n",
              "      <td>26.023389</td>\n",
              "      <td>21.052734</td>\n",
              "      <td>10.713455</td>\n",
              "      <td>0.842514</td>\n",
              "      <td>0.276399</td>\n",
              "    </tr>\n",
              "    <tr>\n",
              "      <th>min</th>\n",
              "      <td>6.000000</td>\n",
              "      <td>0.000000</td>\n",
              "      <td>1.000000</td>\n",
              "      <td>0.000000</td>\n",
              "      <td>0.000000</td>\n",
              "      <td>0.000000</td>\n",
              "    </tr>\n",
              "    <tr>\n",
              "      <th>25%</th>\n",
              "      <td>69846.000000</td>\n",
              "      <td>3.000000</td>\n",
              "      <td>4.000000</td>\n",
              "      <td>1.000000</td>\n",
              "      <td>0.566667</td>\n",
              "      <td>0.250000</td>\n",
              "    </tr>\n",
              "    <tr>\n",
              "      <th>50%</th>\n",
              "      <td>140148.000000</td>\n",
              "      <td>9.000000</td>\n",
              "      <td>10.000000</td>\n",
              "      <td>4.000000</td>\n",
              "      <td>0.980769</td>\n",
              "      <td>0.416667</td>\n",
              "    </tr>\n",
              "    <tr>\n",
              "      <th>75%</th>\n",
              "      <td>210581.500000</td>\n",
              "      <td>23.000000</td>\n",
              "      <td>22.000000</td>\n",
              "      <td>10.000000</td>\n",
              "      <td>1.333333</td>\n",
              "      <td>0.600000</td>\n",
              "    </tr>\n",
              "    <tr>\n",
              "      <th>max</th>\n",
              "      <td>281928.000000</td>\n",
              "      <td>863.000000</td>\n",
              "      <td>435.000000</td>\n",
              "      <td>386.000000</td>\n",
              "      <td>60.000000</td>\n",
              "      <td>1.000000</td>\n",
              "    </tr>\n",
              "  </tbody>\n",
              "</table>\n",
              "</div>\n",
              "      <button class=\"colab-df-convert\" onclick=\"convertToInteractive('df-f87a07ea-c738-4d23-9ba3-1a6ad959f917')\"\n",
              "              title=\"Convert this dataframe to an interactive table.\"\n",
              "              style=\"display:none;\">\n",
              "        \n",
              "  <svg xmlns=\"http://www.w3.org/2000/svg\" height=\"24px\"viewBox=\"0 0 24 24\"\n",
              "       width=\"24px\">\n",
              "    <path d=\"M0 0h24v24H0V0z\" fill=\"none\"/>\n",
              "    <path d=\"M18.56 5.44l.94 2.06.94-2.06 2.06-.94-2.06-.94-.94-2.06-.94 2.06-2.06.94zm-11 1L8.5 8.5l.94-2.06 2.06-.94-2.06-.94L8.5 2.5l-.94 2.06-2.06.94zm10 10l.94 2.06.94-2.06 2.06-.94-2.06-.94-.94-2.06-.94 2.06-2.06.94z\"/><path d=\"M17.41 7.96l-1.37-1.37c-.4-.4-.92-.59-1.43-.59-.52 0-1.04.2-1.43.59L10.3 9.45l-7.72 7.72c-.78.78-.78 2.05 0 2.83L4 21.41c.39.39.9.59 1.41.59.51 0 1.02-.2 1.41-.59l7.78-7.78 2.81-2.81c.8-.78.8-2.07 0-2.86zM5.41 20L4 18.59l7.72-7.72 1.47 1.35L5.41 20z\"/>\n",
              "  </svg>\n",
              "      </button>\n",
              "      \n",
              "  <style>\n",
              "    .colab-df-container {\n",
              "      display:flex;\n",
              "      flex-wrap:wrap;\n",
              "      gap: 12px;\n",
              "    }\n",
              "\n",
              "    .colab-df-convert {\n",
              "      background-color: #E8F0FE;\n",
              "      border: none;\n",
              "      border-radius: 50%;\n",
              "      cursor: pointer;\n",
              "      display: none;\n",
              "      fill: #1967D2;\n",
              "      height: 32px;\n",
              "      padding: 0 0 0 0;\n",
              "      width: 32px;\n",
              "    }\n",
              "\n",
              "    .colab-df-convert:hover {\n",
              "      background-color: #E2EBFA;\n",
              "      box-shadow: 0px 1px 2px rgba(60, 64, 67, 0.3), 0px 1px 3px 1px rgba(60, 64, 67, 0.15);\n",
              "      fill: #174EA6;\n",
              "    }\n",
              "\n",
              "    [theme=dark] .colab-df-convert {\n",
              "      background-color: #3B4455;\n",
              "      fill: #D2E3FC;\n",
              "    }\n",
              "\n",
              "    [theme=dark] .colab-df-convert:hover {\n",
              "      background-color: #434B5C;\n",
              "      box-shadow: 0px 1px 3px 1px rgba(0, 0, 0, 0.15);\n",
              "      filter: drop-shadow(0px 1px 2px rgba(0, 0, 0, 0.3));\n",
              "      fill: #FFFFFF;\n",
              "    }\n",
              "  </style>\n",
              "\n",
              "      <script>\n",
              "        const buttonEl =\n",
              "          document.querySelector('#df-f87a07ea-c738-4d23-9ba3-1a6ad959f917 button.colab-df-convert');\n",
              "        buttonEl.style.display =\n",
              "          google.colab.kernel.accessAllowed ? 'block' : 'none';\n",
              "\n",
              "        async function convertToInteractive(key) {\n",
              "          const element = document.querySelector('#df-f87a07ea-c738-4d23-9ba3-1a6ad959f917');\n",
              "          const dataTable =\n",
              "            await google.colab.kernel.invokeFunction('convertToInteractive',\n",
              "                                                     [key], {});\n",
              "          if (!dataTable) return;\n",
              "\n",
              "          const docLinkHtml = 'Like what you see? Visit the ' +\n",
              "            '<a target=\"_blank\" href=https://colab.research.google.com/notebooks/data_table.ipynb>data table notebook</a>'\n",
              "            + ' to learn more about interactive tables.';\n",
              "          element.innerHTML = '';\n",
              "          dataTable['output_type'] = 'display_data';\n",
              "          await google.colab.output.renderOutput(dataTable, element);\n",
              "          const docLink = document.createElement('div');\n",
              "          docLink.innerHTML = docLinkHtml;\n",
              "          element.appendChild(docLink);\n",
              "        }\n",
              "      </script>\n",
              "    </div>\n",
              "  </div>\n",
              "  "
            ]
          },
          "metadata": {},
          "execution_count": 16
        }
      ]
    },
    {
      "cell_type": "code",
      "source": [
        "def get_bootstrap_sample(x, B_sample=1):\n",
        "  n = x.size\n",
        "  sample = np.random.choice(x, size=(n, B_sample), replace=True)\n",
        "  if B_sample == 1:\n",
        "    sample = sample.T[0]\n",
        "  return sample"
      ],
      "metadata": {
        "id": "KluEN4VHGad3"
      },
      "execution_count": 17,
      "outputs": []
    },
    {
      "cell_type": "code",
      "source": [
        "n_boot_samples = 1000\n",
        "exp_boot = get_bootstrap_sample(df_exp.click_per_queries, B_sample=n_boot_samples)\n",
        "mean_exp_boot = np.mean(exp_boot, axis=0)\n",
        "std_exp_boot = np.std(exp_boot, axis=0)\n",
        "\n",
        "\n",
        "control_boot = get_bootstrap_sample(df_control.click_per_queries, B_sample=n_boot_samples)\n",
        "mean_control_boot = np.mean(control_boot, axis=0)\n",
        "std_control_boot = np.std(control_boot, axis=0)"
      ],
      "metadata": {
        "id": "Y1b3EO0DGdxK"
      },
      "execution_count": 28,
      "outputs": []
    },
    {
      "cell_type": "code",
      "source": [
        "def stat_intervals(boot, alpha=0.05):\n",
        "  left = np.quantile(boot, alpha / 2)\n",
        "  right = np.quantile(boot, 1 - alpha / 2)\n",
        "  return left, right"
      ],
      "metadata": {
        "id": "xrk_d2omJ34F"
      },
      "execution_count": 29,
      "outputs": []
    },
    {
      "cell_type": "code",
      "source": [
        "stat_intervals(mean_exp_boot)"
      ],
      "metadata": {
        "colab": {
          "base_uri": "https://localhost:8080/"
        },
        "id": "i_czOSuvJ6wj",
        "outputId": "cc302421-42d9-45f3-b0de-27058586fa19"
      },
      "execution_count": 30,
      "outputs": [
        {
          "output_type": "execute_result",
          "data": {
            "text/plain": [
              "(1.1049591522755102, 1.113929963807285)"
            ]
          },
          "metadata": {},
          "execution_count": 30
        }
      ]
    },
    {
      "cell_type": "code",
      "source": [
        "stat_intervals(mean_control_boot)"
      ],
      "metadata": {
        "colab": {
          "base_uri": "https://localhost:8080/"
        },
        "id": "vkieJ6RMKAoL",
        "outputId": "d0f7894f-0605-479c-dbaa-0cf92cc9c1ce"
      },
      "execution_count": 31,
      "outputs": [
        {
          "output_type": "execute_result",
          "data": {
            "text/plain": [
              "(1.038019222584916, 1.047263082999721)"
            ]
          },
          "metadata": {},
          "execution_count": 31
        }
      ]
    },
    {
      "cell_type": "code",
      "source": [
        "stat_intervals(mean_exp_boot - mean_control_boot)"
      ],
      "metadata": {
        "colab": {
          "base_uri": "https://localhost:8080/"
        },
        "id": "BjmV7Y6XKH9r",
        "outputId": "5d3290a9-3028-4687-8e4c-93cfb21af235"
      },
      "execution_count": 48,
      "outputs": [
        {
          "output_type": "execute_result",
          "data": {
            "text/plain": [
              "(0.060289415791483156, 0.07292846569506406)"
            ]
          },
          "metadata": {},
          "execution_count": 48
        }
      ]
    },
    {
      "cell_type": "code",
      "source": [
        "plt.hist(mean_exp_boot, bins=30, density=True);"
      ],
      "metadata": {
        "colab": {
          "base_uri": "https://localhost:8080/",
          "height": 430
        },
        "id": "CRtrsiDuPL1l",
        "outputId": "d3f96216-fc71-43f8-9ece-3282cc9048aa"
      },
      "execution_count": 41,
      "outputs": [
        {
          "output_type": "display_data",
          "data": {
            "text/plain": [
              "<Figure size 640x480 with 1 Axes>"
            ],
            "image/png": "[encoded data removed]"
          },
          "metadata": {}
        }
      ]
    },
    {
      "cell_type": "code",
      "source": [
        "plt.hist(mean_control_boot, bins=30, density=True);"
      ],
      "metadata": {
        "colab": {
          "base_uri": "https://localhost:8080/",
          "height": 430
        },
        "id": "bYqilZFdPYIU",
        "outputId": "79889707-3dc6-4f13-f5b6-02c9e242ef5f"
      },
      "execution_count": 42,
      "outputs": [
        {
          "output_type": "display_data",
          "data": {
            "text/plain": [
              "<Figure size 640x480 with 1 Axes>"
            ],
            "image/png": "[encoded data removed]"
          },
          "metadata": {}
        }
      ]
    },
    {
      "cell_type": "code",
      "source": [
        "zstat = (mean_exp_boot - mean_control_boot) / ((std_exp_boot + std_control_boot) / np.sqrt(n_boot_samples))\n",
        "sts.probplot(zstat, plot=plt);"
      ],
      "metadata": {
        "colab": {
          "base_uri": "https://localhost:8080/",
          "height": 472
        },
        "id": "gSWQaC2WTRO_",
        "outputId": "bec3274a-80b4-4ee6-bd11-32f5f98a9b5d"
      },
      "execution_count": 47,
      "outputs": [
        {
          "output_type": "display_data",
          "data": {
            "text/plain": [
              "<Figure size 640x480 with 1 Axes>"
            ],
            "image/png": "[encoded data removed]"
          },
          "metadata": {}
        }
      ]
    },
    {
      "cell_type": "markdown",
      "metadata": {
        "id": "CA0Tg6Oq4In4"
      },
      "source": [
        "__[10 баллов]__ Осторожно, спойлеры! В прошлом пункте у вас получилась картинка, на которой хвосты распределения немного отличаются от стандартного нормального. Давайте сделаем вид, что всё хорошо и отличия на хвостах нет. Проверьте гипотезу о равенстве средних между группами с помощью $z-$теста на уровне значимости $1\\%$."
      ]
    },
    {
      "cell_type": "code",
      "execution_count": 59,
      "metadata": {
        "id": "yP6pxiT_4In4",
        "colab": {
          "base_uri": "https://localhost:8080/"
        },
        "outputId": "fa0469ee-f553-45e9-feca-bf1b6b99a439"
      },
      "outputs": [
        {
          "output_type": "stream",
          "name": "stdout",
          "text": [
            "conf interval: 0.058071197066068475 0.07492467720106952\n",
            "zstat: 20.326642773141288 \n",
            "pvalue: 7.474488489885518e-92\n"
          ]
        }
      ],
      "source": [
        "from statsmodels.stats.weightstats import ztest,zconfint\n",
        "\n",
        "X = df_exp.click_per_queries\n",
        "Y = df_control.click_per_queries\n",
        "left, right = zconfint(X, Y, alpha=0.01)\n",
        "print('conf interval:', left, right)\n",
        "stat, pvalue = ztest(X, Y)\n",
        "print('zstat:',stat, '\\npvalue:',pvalue)"
      ]
    },
    {
      "cell_type": "markdown",
      "source": [
        "🐫 Гипотеза отвергается, потому что `pvalue` < 0.01."
      ],
      "metadata": {
        "id": "mJ3NlcpMYosZ"
      }
    },
    {
      "cell_type": "markdown",
      "metadata": {
        "id": "26RFlnjr4In4"
      },
      "source": [
        "__[10 баллов]__ Давайте попробуем понять, какими при таких объёмах выборки оказываются MDE и ошибка второго рода. Конечно, же сделать это надо до проведения АБ-теста. Но не мы его готовили... При решении этого пункта выберите какое-то адекватное значение MDE и получите отталкиваясь от него ошибку второго рода.\n",
        "\n",
        "Формула для расчета числа наблюдений __для одной группы:__\n",
        "\n",
        "$$\n",
        "n_{\\text{one group}} = \\frac{(\\sigma_A^2 + \\sigma_B^2) \\cdot (z_{1-\\frac{\\alpha}{2}} + z_{1-\\beta})^2}{MDE^2},\n",
        "$$"
      ]
    },
    {
      "cell_type": "code",
      "execution_count": null,
      "metadata": {
        "id": "jcGuv3xV4In5"
      },
      "outputs": [],
      "source": [
        "# ваш код"
      ]
    },
    {
      "cell_type": "markdown",
      "metadata": {
        "id": "CrnR7JHX4In5"
      },
      "source": [
        "__[10 баллов]__ Хвосты отличаются от стандартного нормального. По хорошему, для проверки гипотезы нужно использовать бутстрап. В контексте средних, на бутстрап можно смотреть как на технику, которая уточняет, насколько сильно хвосты распределения стали тяжелее по сравнению с ЦПТ.\n",
        "\n",
        "Проверьте гипотезу с помощью бутстрапа! Воспользуйтесь следующим алгоритмом с лекции:\n",
        "\n",
        "1. Посчитайте наблюдаемое значение статистики.\n",
        "2. Пусть $\\bar h$ - это среднее посчитанное по обеим выборкам вместе. Создайте две новые выборки $$x'_i = x_i - \\bar x + \\bar h \\\\ y'_i = y_i - \\bar y + \\bar h.$$ Такое рецентрирование сдвинет обе выборки к общему среднему и  позволит заложить в симуляцию информацию о верности нулевой гипотезы.\n",
        "3. Сбутстрапируйте выборки $x^{*}$ и $y^{*}$ из $x'$ и $y'$. Рассчитайте значение z-статистики. Повторите процедуру $B$ раз.\n",
        "4. Для оценки `p-value` воспользуйтесь формулой:\n",
        "\n",
        "$$\n",
        "2 * \\frac{1}{B} \\sum_{i=1}^B [z_i^{*} \\ge z_{obs}]\n",
        "$$"
      ]
    },
    {
      "cell_type": "code",
      "execution_count": null,
      "metadata": {
        "id": "dWSVTtIf4In5"
      },
      "outputs": [],
      "source": [
        "# ваш код"
      ]
    },
    {
      "cell_type": "markdown",
      "metadata": {
        "id": "82yDAEpj4In5"
      },
      "source": [
        "__Ответьте на следующие вопросы:__\n",
        "\n",
        "- Изменились ли выводы АБ-теста?\n",
        "- Насколько сильно критическое значение статистики, полученной с помощью бутстрэпа, отличается от киритческого значения нормального распределения?\n",
        "- Какую из ошибок (1 рода/2 рода) вы будете чаще совершать, если в ситуации с толстыми хвостами будете пользоваться нормальным распределением? Насколько чаще будет возникать эта ошибка?"
      ]
    },
    {
      "cell_type": "markdown",
      "metadata": {
        "id": "r6SJ41-U4In6"
      },
      "source": [
        "__[10 баллов]__ Насколько больше наблюдений нам необходимо для проверки гипотезы по сравнению с z-тестом? Для ответа на этот вопрос подставьте критические значение из бустрап-распределения в формулу для оценки числа наблюдений. В качестве MDE возьмите величину, которую вы сами зафикисировали в прошлых пунктах. В качестве ошибки второго рода возьмите получившуюся при рассчётах величину."
      ]
    },
    {
      "cell_type": "code",
      "execution_count": null,
      "metadata": {
        "id": "ZMFSWdcl4In6"
      },
      "outputs": [],
      "source": [
        "# ваш код"
      ]
    },
    {
      "cell_type": "markdown",
      "metadata": {
        "id": "5vtT2PhA4In6"
      },
      "source": [
        "__[10 баллов]__ Проверьте ту же гипотезу тестом Манна-Уитни. Используйте для этого функцию `scipy.stats.mannwhitneyu`."
      ]
    },
    {
      "cell_type": "code",
      "execution_count": null,
      "metadata": {
        "id": "jX996vjs4In6"
      },
      "outputs": [],
      "source": [
        "# ваш код"
      ]
    },
    {
      "cell_type": "markdown",
      "metadata": {
        "id": "_rvSJD1V4In6"
      },
      "source": [
        "При $n,m \\to \\infty$ статистика Манна-Уитни сходится к нормальному распределению со следующими параметрами:\n",
        "\n",
        "$$\n",
        "U \\Rightarrow N \\left( \\frac{n_T \\cdot n_C}{2}, \\frac{n_T \\cdot n_C \\cdot (n_T + n_C + 1)}{12} \\right)\n",
        "$$\n",
        "\n",
        "Отталкиваясь от этого приближения, определите сколько наблюдений нам необходимо для проверки гипотезы для тех же MDE и ошибки 2 рода, что и у z-теста/бустрапа."
      ]
    },
    {
      "cell_type": "code",
      "execution_count": null,
      "metadata": {
        "id": "KnUoBXm44In6"
      },
      "outputs": [],
      "source": [
        "# ваш код"
      ]
    },
    {
      "cell_type": "markdown",
      "metadata": {
        "id": "QUpC6s-D4In7"
      },
      "source": [
        "__[10 баллов]__ У многих аналитиков с теста Манна-Уитни подгорает жепа. Это происходит из-за того, что на практике его часто используют довольно бездумно. [Вот один из свежих примеров бомбежа.](https://habr.com/ru/companies/avito/articles/709596/)\n",
        "\n",
        "В нашем кейсе, если аккуратно посчитать квантили обоих распределений, можно увидеть, что в тестовой группе квантили и правда съехали вправо, а форма гистограмм не изменилась. В целом, это знак, что тест можно спокойно применять. Однако, квантили левее $0.1$ не поменялись.\n",
        "\n",
        "Вместо тесто Манна-Уитни на сдвиг распределения, мы можем попробовать проверить гипотезу о том, что наше распределение, в принципе, как-то поменялось. Для таких гипотез обычно используются критерии согласия. Проверьте гипотезу о том, что распределения тестовой и контрольной групп совпадают с помощью теста Колмогорова-Смирнова `scipy.stats.ks_2sam`."
      ]
    },
    {
      "cell_type": "code",
      "execution_count": null,
      "metadata": {
        "id": "O_v3fgyB4In7"
      },
      "outputs": [],
      "source": [
        "# ваш код"
      ]
    },
    {
      "cell_type": "markdown",
      "metadata": {
        "id": "cHfpEd824In7"
      },
      "source": [
        "Насколько сильно друг от друга отличаются p-значения этих тестов? Как думаете, почему отличие именно такое?\n",
        "\n",
        "__Ответ:__"
      ]
    },
    {
      "cell_type": "markdown",
      "metadata": {
        "id": "8m6aiggy4In7"
      },
      "source": [
        "## Часть 2: CUPED\n",
        "\n",
        "Попробуем натянуть сову на глобус. Давайте сделаем вид, что на самом деле первые $50\\%$ таблицы это выборка, которая у нас была до эксперимента. Попробуем провернуть CUPED.\n",
        "\n",
        "__[10 баллов]__ рассчитайте значение стандартной ошибки для $z$-статистики по второй части выборки. С помощью CUPED мы будем пытаться уменьшить значение этой ошибки."
      ]
    },
    {
      "cell_type": "code",
      "execution_count": null,
      "metadata": {
        "id": "0wELK1sv4In7"
      },
      "outputs": [],
      "source": [
        "# ваш код"
      ]
    },
    {
      "cell_type": "markdown",
      "metadata": {
        "id": "V-ik-vkh4In7"
      },
      "source": [
        "__[20 баллов]__ теперь проверните CUPED. Используйте значение целевой переменной из первой части выборки как ковариату.\n",
        "\n",
        "Для оценки линейных моделей используйте пакет `statsmodels`. Пример того, как это можно делать [есть тут.](https://github.com/FUlyankin/matstat-AB/blob/main/week13_linreg/11_python_regression.ipynb) Предполагайте, что в данных есть гетероскедастичность. Для её фикса пользуйтесь `HC-3`.\n",
        "\n",
        "Насколько у нас получилось уменьшить стандартную ошибку?"
      ]
    },
    {
      "cell_type": "code",
      "execution_count": null,
      "metadata": {
        "id": "lGMcT5nT4In7"
      },
      "outputs": [],
      "source": [
        "# ваш код"
      ]
    },
    {
      "cell_type": "markdown",
      "metadata": {
        "id": "dXJJzpSI4In8"
      },
      "source": [
        "__[20 баллов]__ Ровно по той же схеме проверните CUPAC. В качестве базовой модели возьмите какой-нибудь градиентный бустинг. Насколько у нас получилось уменьшить стандартную ошибку?"
      ]
    },
    {
      "cell_type": "code",
      "execution_count": null,
      "metadata": {
        "id": "lWgRGrGx4In8"
      },
      "outputs": [],
      "source": [
        "# ваш код"
      ]
    },
    {
      "cell_type": "markdown",
      "metadata": {
        "id": "YlZ3RFLN4In8"
      },
      "source": [
        "__[10 баллов]__ Финальный вопрос! А как использовать эту новую стандартную ошибку в формуле для рассчёта числа наблюдений? Выясните при выбранном выми MDE, какая у нас будет ошибка второго рода в CUPED и CUPAC, если в АБ-тесте будет участвовать только половина наблюдений."
      ]
    },
    {
      "cell_type": "code",
      "execution_count": null,
      "metadata": {
        "id": "XLg1XhSw4In8"
      },
      "outputs": [],
      "source": [
        "# ваш код"
      ]
    }
  ],
  "metadata": {
    "kernelspec": {
      "display_name": "Python 3 (ipykernel)",
      "language": "python",
      "name": "python3"
    },
    "language_info": {
      "codemirror_mode": {
        "name": "ipython",
        "version": 3
      },
      "file_extension": ".py",
      "mimetype": "text/x-python",
      "name": "python",
      "nbconvert_exporter": "python",
      "pygments_lexer": "ipython3",
      "version": "3.10.9"
    },
    "colab": {
      "provenance": [],
      "include_colab_link": true
    }
  },
  "nbformat": 4,
  "nbformat_minor": 0
}