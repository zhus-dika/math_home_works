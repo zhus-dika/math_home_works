{
  "cells": [
    {
      "cell_type": "markdown",
      "metadata": {
        "id": "view-in-github",
        "colab_type": "text"
      },
      "source": [
        "<a href=\"https://colab.research.google.com/github/zhus-dika/math_home_works/blob/main/hw_02_ZHUSSUPOVA_DINARA.ipynb\" target=\"_parent\"><img src=\"https://colab.research.google.com/assets/colab-badge.svg\" alt=\"Open In Colab\"/></a>"
      ]
    },
    {
      "cell_type": "markdown",
      "id": "9074d943",
      "metadata": {
        "id": "9074d943"
      },
      "source": [
        "<center>\n",
        "<img src=\"https://camo.githubusercontent.com/ad20aaaa48264581c46aa126919dbb72060ebd98cffe015523549b4974843ae5/68747470733a2f2f7261772e67697468756275736572636f6e74656e742e636f6d2f46556c79616e6b696e2f725f70726f626162696c6974792f6d61737465722f656e645f73656d696e6172732f73656d5f362f73747564656e745f746561636865725f646973742e706e67\" height=\"200\">\n",
        "\n",
        "# Прикладаная статистика: домашнее задание 2\n",
        "</center>\n",
        "\n",
        "> скрррааа па па ка ка ка скидики па па энд э пу пу дррр бум скьа ду ду ку ку тун тун пум пум\n",
        "\n",
        "$\\qquad$ [БутcРэп](https://www.youtube.com/watch?v=eE4qxB2E8d4)\n"
      ]
    },
    {
      "cell_type": "markdown",
      "id": "153348a7",
      "metadata": {
        "id": "153348a7"
      },
      "source": [
        "**ФИО:**"
      ]
    },
    {
      "cell_type": "markdown",
      "id": "f40dc119",
      "metadata": {
        "id": "f40dc119"
      },
      "source": [
        "## Общая информация\n",
        "\n",
        "\n",
        "__Дата выдачи:__ 23.04.2022\n",
        "\n",
        "__Дедлайн:__ 23:59MSK 14.05.2022"
      ]
    },
    {
      "cell_type": "markdown",
      "id": "58abed2e",
      "metadata": {
        "id": "58abed2e"
      },
      "source": [
        "## Формат сдачи\n",
        "\n",
        "Сам ноутбук называйте в формате hw-01-USERNAME.ipynb, где USERNAME — ваши фамилия и имя. Файл надо будет, как обычно, сдать в anytask."
      ]
    },
    {
      "cell_type": "markdown",
      "id": "23434b16",
      "metadata": {
        "id": "23434b16"
      },
      "source": [
        "## Оформление"
      ]
    },
    {
      "cell_type": "markdown",
      "id": "9ec5a430",
      "metadata": {
        "id": "9ec5a430"
      },
      "source": [
        "В этом домашнем задании мы будем проверять гипотезы. Во всех задачах подробно обосновывайте выбор критерия для проверки гипотезы и делайте выводы."
      ]
    },
    {
      "cell_type": "code",
      "execution_count": 1,
      "id": "154ad6fa",
      "metadata": {
        "id": "154ad6fa"
      },
      "outputs": [],
      "source": [
        "import numpy as np\n",
        "import pandas as pd\n",
        "\n",
        "from scipy import stats as sts\n",
        "\n",
        "import seaborn as sns\n",
        "import matplotlib.pyplot as plt"
      ]
    },
    {
      "cell_type": "markdown",
      "id": "b4a9c38f",
      "metadata": {
        "id": "b4a9c38f"
      },
      "source": [
        "## [10 баллов] Задание 1 (рейтинги президентов)\n",
        "\n",
        "В таблице `presidents.csv` представлены рейтинги различных президентов США (интересно, почему не российских). Социальные опросы проводились раз в квартал. Опрашивалась случайная выборка граждан. У каждого спрашивалось одобряет ли он деятельность президента.\n",
        "\n",
        "Ричард Никсон был президентом США с 20 января 1969 года по 9 августа 1974 года. 17 июня 1972 года произошёл Уотергейтский скандал. Давайте проанализируем, что при этом произошло с его рейтингом."
      ]
    },
    {
      "cell_type": "code",
      "source": [
        "from google.colab import drive\n",
        "drive.mount('/content/drive')"
      ],
      "metadata": {
        "colab": {
          "base_uri": "https://localhost:8080/"
        },
        "id": "gfj9kXJlrxob",
        "outputId": "618c7727-01bd-4caf-826c-7448923580ae"
      },
      "id": "gfj9kXJlrxob",
      "execution_count": null,
      "outputs": [
        {
          "output_type": "stream",
          "name": "stdout",
          "text": [
            "Mounted at /content/drive\n"
          ]
        }
      ]
    },
    {
      "cell_type": "code",
      "execution_count": null,
      "id": "82891bdd",
      "metadata": {
        "colab": {
          "base_uri": "https://localhost:8080/",
          "height": 206
        },
        "id": "82891bdd",
        "outputId": "0a6653c2-a61f-414b-9b26-6552b8dd490f"
      },
      "outputs": [
        {
          "output_type": "execute_result",
          "data": {
            "text/plain": [
              "   year  Qtr1  Qtr2  Qtr3  Qtr4\n",
              "0  1945   NaN    87  82.0  75.0\n",
              "1  1946  63.0    50  43.0  32.0\n",
              "2  1947  35.0    60  54.0  55.0\n",
              "3  1948  36.0    39   NaN   NaN\n",
              "4  1949  69.0    57  57.0  51.0"
            ],
            "text/html": [
              "\n",
              "  <div id=\"df-713ff833-51b2-4233-9bcb-f280bc3c860f\">\n",
              "    <div class=\"colab-df-container\">\n",
              "      <div>\n",
              "<style scoped>\n",
              "    .dataframe tbody tr th:only-of-type {\n",
              "        vertical-align: middle;\n",
              "    }\n",
              "\n",
              "    .dataframe tbody tr th {\n",
              "        vertical-align: top;\n",
              "    }\n",
              "\n",
              "    .dataframe thead th {\n",
              "        text-align: right;\n",
              "    }\n",
              "</style>\n",
              "<table border=\"1\" class=\"dataframe\">\n",
              "  <thead>\n",
              "    <tr style=\"text-align: right;\">\n",
              "      <th></th>\n",
              "      <th>year</th>\n",
              "      <th>Qtr1</th>\n",
              "      <th>Qtr2</th>\n",
              "      <th>Qtr3</th>\n",
              "      <th>Qtr4</th>\n",
              "    </tr>\n",
              "  </thead>\n",
              "  <tbody>\n",
              "    <tr>\n",
              "      <th>0</th>\n",
              "      <td>1945</td>\n",
              "      <td>NaN</td>\n",
              "      <td>87</td>\n",
              "      <td>82.0</td>\n",
              "      <td>75.0</td>\n",
              "    </tr>\n",
              "    <tr>\n",
              "      <th>1</th>\n",
              "      <td>1946</td>\n",
              "      <td>63.0</td>\n",
              "      <td>50</td>\n",
              "      <td>43.0</td>\n",
              "      <td>32.0</td>\n",
              "    </tr>\n",
              "    <tr>\n",
              "      <th>2</th>\n",
              "      <td>1947</td>\n",
              "      <td>35.0</td>\n",
              "      <td>60</td>\n",
              "      <td>54.0</td>\n",
              "      <td>55.0</td>\n",
              "    </tr>\n",
              "    <tr>\n",
              "      <th>3</th>\n",
              "      <td>1948</td>\n",
              "      <td>36.0</td>\n",
              "      <td>39</td>\n",
              "      <td>NaN</td>\n",
              "      <td>NaN</td>\n",
              "    </tr>\n",
              "    <tr>\n",
              "      <th>4</th>\n",
              "      <td>1949</td>\n",
              "      <td>69.0</td>\n",
              "      <td>57</td>\n",
              "      <td>57.0</td>\n",
              "      <td>51.0</td>\n",
              "    </tr>\n",
              "  </tbody>\n",
              "</table>\n",
              "</div>\n",
              "      <button class=\"colab-df-convert\" onclick=\"convertToInteractive('df-713ff833-51b2-4233-9bcb-f280bc3c860f')\"\n",
              "              title=\"Convert this dataframe to an interactive table.\"\n",
              "              style=\"display:none;\">\n",
              "        \n",
              "  <svg xmlns=\"http://www.w3.org/2000/svg\" height=\"24px\"viewBox=\"0 0 24 24\"\n",
              "       width=\"24px\">\n",
              "    <path d=\"M0 0h24v24H0V0z\" fill=\"none\"/>\n",
              "    <path d=\"M18.56 5.44l.94 2.06.94-2.06 2.06-.94-2.06-.94-.94-2.06-.94 2.06-2.06.94zm-11 1L8.5 8.5l.94-2.06 2.06-.94-2.06-.94L8.5 2.5l-.94 2.06-2.06.94zm10 10l.94 2.06.94-2.06 2.06-.94-2.06-.94-.94-2.06-.94 2.06-2.06.94z\"/><path d=\"M17.41 7.96l-1.37-1.37c-.4-.4-.92-.59-1.43-.59-.52 0-1.04.2-1.43.59L10.3 9.45l-7.72 7.72c-.78.78-.78 2.05 0 2.83L4 21.41c.39.39.9.59 1.41.59.51 0 1.02-.2 1.41-.59l7.78-7.78 2.81-2.81c.8-.78.8-2.07 0-2.86zM5.41 20L4 18.59l7.72-7.72 1.47 1.35L5.41 20z\"/>\n",
              "  </svg>\n",
              "      </button>\n",
              "      \n",
              "  <style>\n",
              "    .colab-df-container {\n",
              "      display:flex;\n",
              "      flex-wrap:wrap;\n",
              "      gap: 12px;\n",
              "    }\n",
              "\n",
              "    .colab-df-convert {\n",
              "      background-color: #E8F0FE;\n",
              "      border: none;\n",
              "      border-radius: 50%;\n",
              "      cursor: pointer;\n",
              "      display: none;\n",
              "      fill: #1967D2;\n",
              "      height: 32px;\n",
              "      padding: 0 0 0 0;\n",
              "      width: 32px;\n",
              "    }\n",
              "\n",
              "    .colab-df-convert:hover {\n",
              "      background-color: #E2EBFA;\n",
              "      box-shadow: 0px 1px 2px rgba(60, 64, 67, 0.3), 0px 1px 3px 1px rgba(60, 64, 67, 0.15);\n",
              "      fill: #174EA6;\n",
              "    }\n",
              "\n",
              "    [theme=dark] .colab-df-convert {\n",
              "      background-color: #3B4455;\n",
              "      fill: #D2E3FC;\n",
              "    }\n",
              "\n",
              "    [theme=dark] .colab-df-convert:hover {\n",
              "      background-color: #434B5C;\n",
              "      box-shadow: 0px 1px 3px 1px rgba(0, 0, 0, 0.15);\n",
              "      filter: drop-shadow(0px 1px 2px rgba(0, 0, 0, 0.3));\n",
              "      fill: #FFFFFF;\n",
              "    }\n",
              "  </style>\n",
              "\n",
              "      <script>\n",
              "        const buttonEl =\n",
              "          document.querySelector('#df-713ff833-51b2-4233-9bcb-f280bc3c860f button.colab-df-convert');\n",
              "        buttonEl.style.display =\n",
              "          google.colab.kernel.accessAllowed ? 'block' : 'none';\n",
              "\n",
              "        async function convertToInteractive(key) {\n",
              "          const element = document.querySelector('#df-713ff833-51b2-4233-9bcb-f280bc3c860f');\n",
              "          const dataTable =\n",
              "            await google.colab.kernel.invokeFunction('convertToInteractive',\n",
              "                                                     [key], {});\n",
              "          if (!dataTable) return;\n",
              "\n",
              "          const docLinkHtml = 'Like what you see? Visit the ' +\n",
              "            '<a target=\"_blank\" href=https://colab.research.google.com/notebooks/data_table.ipynb>data table notebook</a>'\n",
              "            + ' to learn more about interactive tables.';\n",
              "          element.innerHTML = '';\n",
              "          dataTable['output_type'] = 'display_data';\n",
              "          await google.colab.output.renderOutput(dataTable, element);\n",
              "          const docLink = document.createElement('div');\n",
              "          docLink.innerHTML = docLinkHtml;\n",
              "          element.appendChild(docLink);\n",
              "        }\n",
              "      </script>\n",
              "    </div>\n",
              "  </div>\n",
              "  "
            ]
          },
          "metadata": {},
          "execution_count": 4
        }
      ],
      "source": [
        "url = 'https://drive.google.com/uc?id={}'.format('16YC3uksVXh740xfw5pvmipJZyff51wlQ')\n",
        "df = pd.read_csv(url)\n",
        "df.head()"
      ]
    },
    {
      "cell_type": "markdown",
      "id": "c87d176d",
      "metadata": {
        "id": "c87d176d"
      },
      "source": [
        "Чтобы привести таблицу к удобному виду используйте функцию `pd.melt`. Вытащите из таблички рейтинг Никсона с 1 квартала 1969 года по 2 квартал 1972 года (включая его). Запишите эти данные в переменную `x`. Рейтинг с 3 квартала 1972 года по 2 квартал 1974 года поместите в переменную `y`. Пропуски в данных удалите из выборки."
      ]
    },
    {
      "cell_type": "code",
      "execution_count": null,
      "id": "abcb7a68",
      "metadata": {
        "colab": {
          "base_uri": "https://localhost:8080/"
        },
        "id": "abcb7a68",
        "outputId": "42af2544-0f1c-4b4c-d3d8-b9a08dc45880"
      },
      "outputs": [
        {
          "output_type": "stream",
          "name": "stdout",
          "text": [
            "     year   Qtr  rating\n",
            "24   1969  Qtr1    59.0\n",
            "25   1970  Qtr1    66.0\n",
            "26   1971  Qtr1    51.0\n",
            "27   1972  Qtr1    49.0\n",
            "54   1969  Qtr2    65.0\n",
            "55   1970  Qtr2    53.0\n",
            "56   1971  Qtr2    48.0\n",
            "57   1972  Qtr2    61.0\n",
            "84   1969  Qtr3    65.0\n",
            "85   1970  Qtr3    61.0\n",
            "86   1971  Qtr3    54.0\n",
            "114  1969  Qtr4    56.0\n",
            "115  1970  Qtr4    52.0\n",
            "116  1971  Qtr4    49.0\n",
            "     year   Qtr  rating\n",
            "28   1973  Qtr1    68.0\n",
            "29   1974  Qtr1    28.0\n",
            "58   1973  Qtr2    44.0\n",
            "59   1974  Qtr2    25.0\n",
            "88   1973  Qtr3    40.0\n",
            "118  1973  Qtr4    27.0\n"
          ]
        }
      ],
      "source": [
        "### ╰( ͡° ͜ʖ ͡° )つ▬▬ι═══════  bzzzzzzzzzz\n",
        "# will the code be with you\n",
        "df_extend = df.melt(id_vars=[\"year\"], var_name=\"Qtr\", value_name=\"rating\")\n",
        "x = df_extend[(df_extend.year > 1968) & (df_extend.year < 1973)].dropna()\n",
        "y = df_extend[(df_extend.year > 1971)].dropna()\n",
        "y = y[~((y.year == 1972) & ((y.Qtr == 'Qtr1') | (y.Qtr == 'Qtr2')) | (y.year == 1974) & ((y.Qtr == 'Qtr3') | (y.Qtr == 'Qtr4')))]\n",
        "print(x)\n",
        "print(y)"
      ]
    },
    {
      "cell_type": "markdown",
      "id": "fd439aca",
      "metadata": {
        "id": "fd439aca"
      },
      "source": [
        "Правда ли, что после скандала средний рейтинг Никсона рухнул? Предполагайте, что рейтинг распределён нормально, а также, что дисперсия рейтинга не изменилась из-за скандала. Наблюдаемое значение статистики запишите в переменную `obs`, в переменную `pval` запишите $p$-значение."
      ]
    },
    {
      "cell_type": "code",
      "source": [
        "mu_hat_x = x.rating.mean()\n",
        "mu_hat_y = y.rating.mean()\n",
        "n = x.shape[0]\n",
        "m = y.shape[0]\n",
        "var_hat_x = x.rating.var(ddof=1)\n",
        "var_hat_y = y.rating.var(ddof=1)\n",
        "sx = np.sqrt((var_hat_x * (n - 1) + var_hat_y * (m - 1)) / (n + m - 2))\n",
        "obs = (mu_hat_x - mu_hat_y) / (sx * np.sqrt(1 / n + 1 / m))\n",
        "print('obs =', obs)\n",
        "pval = 1 - sts.t.cdf(x=obs, df=(n + m - 2))\n",
        "print('pval =', pval)"
      ],
      "metadata": {
        "colab": {
          "base_uri": "https://localhost:8080/"
        },
        "id": "Q3tQENftcKvl",
        "outputId": "4f7fc091-64f4-45ac-d44c-2e306f573e4a"
      },
      "id": "Q3tQENftcKvl",
      "execution_count": null,
      "outputs": [
        {
          "output_type": "stream",
          "name": "stdout",
          "text": [
            "obs = 3.5640741313229793\n",
            "pval = 0.0011087344846424374\n"
          ]
        }
      ]
    },
    {
      "cell_type": "code",
      "execution_count": null,
      "id": "e034f76c",
      "metadata": {
        "id": "e034f76c"
      },
      "outputs": [],
      "source": [
        "# небольшая самопроверка\n",
        "assert np.abs(obs - 3.5640741313229793) < 1e-5"
      ]
    },
    {
      "cell_type": "markdown",
      "id": "5eb8fd45",
      "metadata": {
        "id": "5eb8fd45"
      },
      "source": [
        "**Почему вы выбрали именно этот критерий для проверки гипотезы? Какие выводы вы сделали?**\n",
        "\n",
        "**Ответ:** Выбирается тест Стьюдента, т.к. средний рейтинг неизвестен и дисперсия равна но тоже неизвестна. В этом случае можно проверять гипотезу только по критерию Стьюдента. p_val < 0.05, поэтому нулевая гипотеза, что рейтинг президента не изменился отвергается и принимается альтернативная гипотеза."
      ]
    },
    {
      "cell_type": "markdown",
      "id": "b5d0253f",
      "metadata": {
        "id": "b5d0253f"
      },
      "source": [
        "Снова президентом Никсон станет в $3000$ году.\n",
        "\n",
        "![](https://vignette.wikia.nocookie.net/futurama/images/2/2f/Richard_M._Nixon%27s_head.jpg/revision/latest/scale-to-width-down/250?cb=20131123190522&path-prefix=ru)"
      ]
    },
    {
      "cell_type": "markdown",
      "id": "3ead1a50",
      "metadata": {
        "id": "3ead1a50"
      },
      "source": [
        "## [10 баллов] Задание 2 (доктор сон)\n",
        "\n",
        "Проводится эксперимент о пользе нового снотворного. Для его проведения используется группа из $10$ студентов. В первый день каждый из них ложится спать. На утро измеряется, сколько он проспал. Из результата вычитают $8$ (нормальное число часов сна). На второй день каждому дают таблетку. Утром снова измеряют, сколько человек проспал, и вычитают $8$. Результаты эксперимента записаны в табличку `sleep.csv`."
      ]
    },
    {
      "cell_type": "code",
      "execution_count": null,
      "id": "e6be5698",
      "metadata": {
        "id": "e6be5698",
        "outputId": "8e069369-28b9-4853-bf22-0b637e92cd05",
        "colab": {
          "base_uri": "https://localhost:8080/",
          "height": 206
        }
      },
      "outputs": [
        {
          "output_type": "execute_result",
          "data": {
            "text/plain": [
              "   extra  group  ID\n",
              "0    0.7      1   1\n",
              "1   -1.6      1   2\n",
              "2   -0.2      1   3\n",
              "3   -1.2      1   4\n",
              "4   -0.1      1   5"
            ],
            "text/html": [
              "\n",
              "  <div id=\"df-4b1a0c70-886c-4140-9bb2-b62ac7b461b9\">\n",
              "    <div class=\"colab-df-container\">\n",
              "      <div>\n",
              "<style scoped>\n",
              "    .dataframe tbody tr th:only-of-type {\n",
              "        vertical-align: middle;\n",
              "    }\n",
              "\n",
              "    .dataframe tbody tr th {\n",
              "        vertical-align: top;\n",
              "    }\n",
              "\n",
              "    .dataframe thead th {\n",
              "        text-align: right;\n",
              "    }\n",
              "</style>\n",
              "<table border=\"1\" class=\"dataframe\">\n",
              "  <thead>\n",
              "    <tr style=\"text-align: right;\">\n",
              "      <th></th>\n",
              "      <th>extra</th>\n",
              "      <th>group</th>\n",
              "      <th>ID</th>\n",
              "    </tr>\n",
              "  </thead>\n",
              "  <tbody>\n",
              "    <tr>\n",
              "      <th>0</th>\n",
              "      <td>0.7</td>\n",
              "      <td>1</td>\n",
              "      <td>1</td>\n",
              "    </tr>\n",
              "    <tr>\n",
              "      <th>1</th>\n",
              "      <td>-1.6</td>\n",
              "      <td>1</td>\n",
              "      <td>2</td>\n",
              "    </tr>\n",
              "    <tr>\n",
              "      <th>2</th>\n",
              "      <td>-0.2</td>\n",
              "      <td>1</td>\n",
              "      <td>3</td>\n",
              "    </tr>\n",
              "    <tr>\n",
              "      <th>3</th>\n",
              "      <td>-1.2</td>\n",
              "      <td>1</td>\n",
              "      <td>4</td>\n",
              "    </tr>\n",
              "    <tr>\n",
              "      <th>4</th>\n",
              "      <td>-0.1</td>\n",
              "      <td>1</td>\n",
              "      <td>5</td>\n",
              "    </tr>\n",
              "  </tbody>\n",
              "</table>\n",
              "</div>\n",
              "      <button class=\"colab-df-convert\" onclick=\"convertToInteractive('df-4b1a0c70-886c-4140-9bb2-b62ac7b461b9')\"\n",
              "              title=\"Convert this dataframe to an interactive table.\"\n",
              "              style=\"display:none;\">\n",
              "        \n",
              "  <svg xmlns=\"http://www.w3.org/2000/svg\" height=\"24px\"viewBox=\"0 0 24 24\"\n",
              "       width=\"24px\">\n",
              "    <path d=\"M0 0h24v24H0V0z\" fill=\"none\"/>\n",
              "    <path d=\"M18.56 5.44l.94 2.06.94-2.06 2.06-.94-2.06-.94-.94-2.06-.94 2.06-2.06.94zm-11 1L8.5 8.5l.94-2.06 2.06-.94-2.06-.94L8.5 2.5l-.94 2.06-2.06.94zm10 10l.94 2.06.94-2.06 2.06-.94-2.06-.94-.94-2.06-.94 2.06-2.06.94z\"/><path d=\"M17.41 7.96l-1.37-1.37c-.4-.4-.92-.59-1.43-.59-.52 0-1.04.2-1.43.59L10.3 9.45l-7.72 7.72c-.78.78-.78 2.05 0 2.83L4 21.41c.39.39.9.59 1.41.59.51 0 1.02-.2 1.41-.59l7.78-7.78 2.81-2.81c.8-.78.8-2.07 0-2.86zM5.41 20L4 18.59l7.72-7.72 1.47 1.35L5.41 20z\"/>\n",
              "  </svg>\n",
              "      </button>\n",
              "      \n",
              "  <style>\n",
              "    .colab-df-container {\n",
              "      display:flex;\n",
              "      flex-wrap:wrap;\n",
              "      gap: 12px;\n",
              "    }\n",
              "\n",
              "    .colab-df-convert {\n",
              "      background-color: #E8F0FE;\n",
              "      border: none;\n",
              "      border-radius: 50%;\n",
              "      cursor: pointer;\n",
              "      display: none;\n",
              "      fill: #1967D2;\n",
              "      height: 32px;\n",
              "      padding: 0 0 0 0;\n",
              "      width: 32px;\n",
              "    }\n",
              "\n",
              "    .colab-df-convert:hover {\n",
              "      background-color: #E2EBFA;\n",
              "      box-shadow: 0px 1px 2px rgba(60, 64, 67, 0.3), 0px 1px 3px 1px rgba(60, 64, 67, 0.15);\n",
              "      fill: #174EA6;\n",
              "    }\n",
              "\n",
              "    [theme=dark] .colab-df-convert {\n",
              "      background-color: #3B4455;\n",
              "      fill: #D2E3FC;\n",
              "    }\n",
              "\n",
              "    [theme=dark] .colab-df-convert:hover {\n",
              "      background-color: #434B5C;\n",
              "      box-shadow: 0px 1px 3px 1px rgba(0, 0, 0, 0.15);\n",
              "      filter: drop-shadow(0px 1px 2px rgba(0, 0, 0, 0.3));\n",
              "      fill: #FFFFFF;\n",
              "    }\n",
              "  </style>\n",
              "\n",
              "      <script>\n",
              "        const buttonEl =\n",
              "          document.querySelector('#df-4b1a0c70-886c-4140-9bb2-b62ac7b461b9 button.colab-df-convert');\n",
              "        buttonEl.style.display =\n",
              "          google.colab.kernel.accessAllowed ? 'block' : 'none';\n",
              "\n",
              "        async function convertToInteractive(key) {\n",
              "          const element = document.querySelector('#df-4b1a0c70-886c-4140-9bb2-b62ac7b461b9');\n",
              "          const dataTable =\n",
              "            await google.colab.kernel.invokeFunction('convertToInteractive',\n",
              "                                                     [key], {});\n",
              "          if (!dataTable) return;\n",
              "\n",
              "          const docLinkHtml = 'Like what you see? Visit the ' +\n",
              "            '<a target=\"_blank\" href=https://colab.research.google.com/notebooks/data_table.ipynb>data table notebook</a>'\n",
              "            + ' to learn more about interactive tables.';\n",
              "          element.innerHTML = '';\n",
              "          dataTable['output_type'] = 'display_data';\n",
              "          await google.colab.output.renderOutput(dataTable, element);\n",
              "          const docLink = document.createElement('div');\n",
              "          docLink.innerHTML = docLinkHtml;\n",
              "          element.appendChild(docLink);\n",
              "        }\n",
              "      </script>\n",
              "    </div>\n",
              "  </div>\n",
              "  "
            ]
          },
          "metadata": {},
          "execution_count": 8
        }
      ],
      "source": [
        "url = 'https://drive.google.com/uc?id={}'.format('1GtUJ3QkruGll8G5T0UTs4otnjivnjM8C')\n",
        "df = pd.read_csv(url)\n",
        "df.head()"
      ]
    },
    {
      "cell_type": "markdown",
      "id": "563eb4c7",
      "metadata": {
        "id": "563eb4c7"
      },
      "source": [
        "Правда ли, что сон студентов до приёма снотворного не отличается от нормы (отклонение от 8 часов равно нулю). Проверьте эту гипотезу на $5\\%$ уровне значимости, в переменную `pval1` запишите p-значение."
      ]
    },
    {
      "cell_type": "code",
      "execution_count": null,
      "id": "77ef90e5",
      "metadata": {
        "id": "77ef90e5",
        "colab": {
          "base_uri": "https://localhost:8080/"
        },
        "outputId": "29f4dbbf-9684-45a1-bc3e-0da204439551"
      },
      "outputs": [
        {
          "output_type": "stream",
          "name": "stdout",
          "text": [
            "tobs1 = 1.3257101407138212\n",
            "pval1 = 0.10879889003422438\n"
          ]
        }
      ],
      "source": [
        "### ╰( ͡° ͜ʖ ͡° )つ▬▬ι═══════  bzzzzzzzzzz\n",
        "# will the code be with you\n",
        "x = df[df.group < 2]\n",
        "n = x.extra.count()\n",
        "mu_hat = x.extra.mean()\n",
        "var_hat = x.extra.var(ddof=1)\n",
        "tobs1 = mu_hat / np.sqrt(var_hat / n)\n",
        "print('tobs1 =', tobs1)\n",
        "pval1 = 1 - sts.t.cdf(x=tobs1, df=(n - 1))\n",
        "print('pval1 =', pval1)"
      ]
    },
    {
      "cell_type": "markdown",
      "id": "b979e7e1",
      "metadata": {
        "id": "b979e7e1"
      },
      "source": [
        "Правда ли, что благодаря таблеткам студенты стали спать больше (односторонняя альтернатива)? Запишите в переменную `pval2` соотвествующее p-значение."
      ]
    },
    {
      "cell_type": "code",
      "execution_count": null,
      "id": "dea8f470",
      "metadata": {
        "id": "dea8f470",
        "colab": {
          "base_uri": "https://localhost:8080/"
        },
        "outputId": "fc32c87a-9344-4a2a-c183-f350e5357b75"
      },
      "outputs": [
        {
          "output_type": "stream",
          "name": "stdout",
          "text": [
            "tobs2 = 4.062127683382037\n",
            "pval2 = 0.0014164450986920984\n"
          ]
        }
      ],
      "source": [
        "### ╰( ͡° ͜ʖ ͡° )つ▬▬ι═══════  bzzzzzzzzzz\n",
        "# will the code be with you\n",
        "y = df[df.group == 2]\n",
        "mu_hat = (y.extra.values - x.extra.values).mean()\n",
        "n = x.shape[0]\n",
        "var_hat = (y.extra.values - x.extra.values).var(ddof=1)\n",
        "tobs2 = mu_hat / np.sqrt(var_hat / n)\n",
        "print('tobs2 =', tobs2)\n",
        "pval2 = 1 - sts.t.cdf(x=tobs2, df=(n - 1))\n",
        "print('pval2 =', pval2)"
      ]
    },
    {
      "cell_type": "code",
      "execution_count": null,
      "id": "5f6b72f9",
      "metadata": {
        "id": "5f6b72f9"
      },
      "outputs": [],
      "source": [
        "# самопроверка\n",
        "assert np.abs(tobs1 - 1.325710) < 1e-5\n",
        "assert np.abs(tobs2 - 4.062127) < 1e-5"
      ]
    },
    {
      "cell_type": "markdown",
      "id": "20d4a20f",
      "metadata": {
        "id": "20d4a20f"
      },
      "source": [
        "**Почему вы выбрали именно этот критерий для проверки гипотезы? Какие выводы вы сделали?**\n",
        "\n",
        "**Ответ:** В первом примере мы проверяли нулевую гипотезу о том, что длительность сна студентов не сильно отличается от среднего значения по Z-тесту. И был получен результат согласно `pval1>0.05`, поэтому гипотеза нулевая не отвергается. Во втором примере был рассмотрен одновыборочный t-критерий, т.к. дисперсия неизвестна, но распределение является номальным. Здесь нулевая гипотеза о том, что длительность сна после снотворного не меняется, отвергается, потому что `pval2<0.05`."
      ]
    },
    {
      "cell_type": "markdown",
      "id": "ff02898b",
      "metadata": {
        "id": "ff02898b"
      },
      "source": [
        "## [30 баллов] Задание 3 (мудрость)\n",
        "\n",
        "> Помните, что для человека звук его имени является самым сладким и самым важным звуком человеческой речи. (Дейл Карнеги)\n",
        "\n",
        "Доверяй, но проверяй. Решим задачку по психологии! Все цитаты в пабликах вконтакте делятся на два вида: мудрые и недостаточно мудрые. Если цитата мудрая, то её можно лайкнуть. Поговаривают, что если в цитате есть личные местоимения, то пользователь автоматически сопоставляет себя автору этой цитаты и вероятность того, что она будет лайкнута, повышается. Например, цитату\n",
        "\n",
        "> Можно простить человеку все, кроме отсутствия. (Экзюпери)\n",
        "\n",
        "мне не очень хотелось бы лайкать. А вот цитата\n",
        "\n",
        "> Мне наплевать, что вы обо мне думаете. Я о вас вообще не думаю. (Булгаков)\n",
        "\n",
        "совершенно другое дело.\n",
        "\n",
        "В табличке `df_vk_wise` лежат данные о мудрых цитатах из [мудрого паблика.](https://vk.com/ooioioioioioo) В колонке `I` находится переменная, которая принимает значение `True`, когда в тексте цитаты было личное местоимение \"Я\".\n",
        "\n",
        "Срежем первые $50$ постов, так как под ними количество репостов и лайков ещё окончательно не выставлено, и будем работать с остатками."
      ]
    },
    {
      "cell_type": "code",
      "execution_count": null,
      "id": "4fc58188",
      "metadata": {
        "id": "4fc58188",
        "outputId": "8692b093-5582-4c63-a56b-6754abfda05f",
        "colab": {
          "base_uri": "https://localhost:8080/",
          "height": 206
        }
      },
      "outputs": [
        {
          "output_type": "execute_result",
          "data": {
            "text/plain": [
              "    likes  reposts                                               text      I\n",
              "50    549       25  Я, говорит, люблю человечество, но дивлюсь на ...   True\n",
              "51    607       22  Нельзя любить то, что я люблю, да ещё так, как...   True\n",
              "52    914       37  Если испытываешь по-настоящему глубокое чувств...  False\n",
              "53    989       34  — Я тебя люблю, — сказал я. \\n— Это пройдет, —...   True\n",
              "54   1229       32  Он очаровательно рассказывает мне о том, как о...  False"
            ],
            "text/html": [
              "\n",
              "  <div id=\"df-a43338dd-be6a-451b-a3ff-3a5334be1771\">\n",
              "    <div class=\"colab-df-container\">\n",
              "      <div>\n",
              "<style scoped>\n",
              "    .dataframe tbody tr th:only-of-type {\n",
              "        vertical-align: middle;\n",
              "    }\n",
              "\n",
              "    .dataframe tbody tr th {\n",
              "        vertical-align: top;\n",
              "    }\n",
              "\n",
              "    .dataframe thead th {\n",
              "        text-align: right;\n",
              "    }\n",
              "</style>\n",
              "<table border=\"1\" class=\"dataframe\">\n",
              "  <thead>\n",
              "    <tr style=\"text-align: right;\">\n",
              "      <th></th>\n",
              "      <th>likes</th>\n",
              "      <th>reposts</th>\n",
              "      <th>text</th>\n",
              "      <th>I</th>\n",
              "    </tr>\n",
              "  </thead>\n",
              "  <tbody>\n",
              "    <tr>\n",
              "      <th>50</th>\n",
              "      <td>549</td>\n",
              "      <td>25</td>\n",
              "      <td>Я, говорит, люблю человечество, но дивлюсь на ...</td>\n",
              "      <td>True</td>\n",
              "    </tr>\n",
              "    <tr>\n",
              "      <th>51</th>\n",
              "      <td>607</td>\n",
              "      <td>22</td>\n",
              "      <td>Нельзя любить то, что я люблю, да ещё так, как...</td>\n",
              "      <td>True</td>\n",
              "    </tr>\n",
              "    <tr>\n",
              "      <th>52</th>\n",
              "      <td>914</td>\n",
              "      <td>37</td>\n",
              "      <td>Если испытываешь по-настоящему глубокое чувств...</td>\n",
              "      <td>False</td>\n",
              "    </tr>\n",
              "    <tr>\n",
              "      <th>53</th>\n",
              "      <td>989</td>\n",
              "      <td>34</td>\n",
              "      <td>— Я тебя люблю, — сказал я. \\n— Это пройдет, —...</td>\n",
              "      <td>True</td>\n",
              "    </tr>\n",
              "    <tr>\n",
              "      <th>54</th>\n",
              "      <td>1229</td>\n",
              "      <td>32</td>\n",
              "      <td>Он очаровательно рассказывает мне о том, как о...</td>\n",
              "      <td>False</td>\n",
              "    </tr>\n",
              "  </tbody>\n",
              "</table>\n",
              "</div>\n",
              "      <button class=\"colab-df-convert\" onclick=\"convertToInteractive('df-a43338dd-be6a-451b-a3ff-3a5334be1771')\"\n",
              "              title=\"Convert this dataframe to an interactive table.\"\n",
              "              style=\"display:none;\">\n",
              "        \n",
              "  <svg xmlns=\"http://www.w3.org/2000/svg\" height=\"24px\"viewBox=\"0 0 24 24\"\n",
              "       width=\"24px\">\n",
              "    <path d=\"M0 0h24v24H0V0z\" fill=\"none\"/>\n",
              "    <path d=\"M18.56 5.44l.94 2.06.94-2.06 2.06-.94-2.06-.94-.94-2.06-.94 2.06-2.06.94zm-11 1L8.5 8.5l.94-2.06 2.06-.94-2.06-.94L8.5 2.5l-.94 2.06-2.06.94zm10 10l.94 2.06.94-2.06 2.06-.94-2.06-.94-.94-2.06-.94 2.06-2.06.94z\"/><path d=\"M17.41 7.96l-1.37-1.37c-.4-.4-.92-.59-1.43-.59-.52 0-1.04.2-1.43.59L10.3 9.45l-7.72 7.72c-.78.78-.78 2.05 0 2.83L4 21.41c.39.39.9.59 1.41.59.51 0 1.02-.2 1.41-.59l7.78-7.78 2.81-2.81c.8-.78.8-2.07 0-2.86zM5.41 20L4 18.59l7.72-7.72 1.47 1.35L5.41 20z\"/>\n",
              "  </svg>\n",
              "      </button>\n",
              "      \n",
              "  <style>\n",
              "    .colab-df-container {\n",
              "      display:flex;\n",
              "      flex-wrap:wrap;\n",
              "      gap: 12px;\n",
              "    }\n",
              "\n",
              "    .colab-df-convert {\n",
              "      background-color: #E8F0FE;\n",
              "      border: none;\n",
              "      border-radius: 50%;\n",
              "      cursor: pointer;\n",
              "      display: none;\n",
              "      fill: #1967D2;\n",
              "      height: 32px;\n",
              "      padding: 0 0 0 0;\n",
              "      width: 32px;\n",
              "    }\n",
              "\n",
              "    .colab-df-convert:hover {\n",
              "      background-color: #E2EBFA;\n",
              "      box-shadow: 0px 1px 2px rgba(60, 64, 67, 0.3), 0px 1px 3px 1px rgba(60, 64, 67, 0.15);\n",
              "      fill: #174EA6;\n",
              "    }\n",
              "\n",
              "    [theme=dark] .colab-df-convert {\n",
              "      background-color: #3B4455;\n",
              "      fill: #D2E3FC;\n",
              "    }\n",
              "\n",
              "    [theme=dark] .colab-df-convert:hover {\n",
              "      background-color: #434B5C;\n",
              "      box-shadow: 0px 1px 3px 1px rgba(0, 0, 0, 0.15);\n",
              "      filter: drop-shadow(0px 1px 2px rgba(0, 0, 0, 0.3));\n",
              "      fill: #FFFFFF;\n",
              "    }\n",
              "  </style>\n",
              "\n",
              "      <script>\n",
              "        const buttonEl =\n",
              "          document.querySelector('#df-a43338dd-be6a-451b-a3ff-3a5334be1771 button.colab-df-convert');\n",
              "        buttonEl.style.display =\n",
              "          google.colab.kernel.accessAllowed ? 'block' : 'none';\n",
              "\n",
              "        async function convertToInteractive(key) {\n",
              "          const element = document.querySelector('#df-a43338dd-be6a-451b-a3ff-3a5334be1771');\n",
              "          const dataTable =\n",
              "            await google.colab.kernel.invokeFunction('convertToInteractive',\n",
              "                                                     [key], {});\n",
              "          if (!dataTable) return;\n",
              "\n",
              "          const docLinkHtml = 'Like what you see? Visit the ' +\n",
              "            '<a target=\"_blank\" href=https://colab.research.google.com/notebooks/data_table.ipynb>data table notebook</a>'\n",
              "            + ' to learn more about interactive tables.';\n",
              "          element.innerHTML = '';\n",
              "          dataTable['output_type'] = 'display_data';\n",
              "          await google.colab.output.renderOutput(dataTable, element);\n",
              "          const docLink = document.createElement('div');\n",
              "          docLink.innerHTML = docLinkHtml;\n",
              "          element.appendChild(docLink);\n",
              "        }\n",
              "      </script>\n",
              "    </div>\n",
              "  </div>\n",
              "  "
            ]
          },
          "metadata": {},
          "execution_count": 27
        }
      ],
      "source": [
        "url = 'https://drive.google.com/uc?id={}'.format('1W6huB4Ih2juhMCsQEshaRnNrriB6VDze')\n",
        "df = pd.read_csv(url)[50:]\n",
        "df.head()"
      ]
    },
    {
      "cell_type": "markdown",
      "id": "2a3e8f04",
      "metadata": {
        "id": "2a3e8f04"
      },
      "source": [
        "Постройте гистограмму для числа лайков постов, содержащих личные местоимения и не содержащих. Как думаете, есть ли с распределением лайков какие-то проблемы?"
      ]
    },
    {
      "cell_type": "code",
      "execution_count": null,
      "id": "23afcd74",
      "metadata": {
        "id": "23afcd74",
        "colab": {
          "base_uri": "https://localhost:8080/",
          "height": 445
        },
        "outputId": "ffe80ea7-b11a-424b-ac66-6abbbcccd8b4"
      },
      "outputs": [
        {
          "output_type": "display_data",
          "data": {
            "text/plain": [
              "<Figure size 1000x500 with 1 Axes>"
            ],
            "image/png": "[encoded data removed]"
          },
          "metadata": {}
        }
      ],
      "source": [
        "### ╰( ͡° ͜ʖ ͡° )つ▬▬ι═══════  bzzzzzzzzzz\n",
        "# will the code be with you\n",
        "x = df[df.I== True].likes.values\n",
        "y = df[df.I == False].likes.values\n",
        "\n",
        "plt.figure(figsize = (10, 5))\n",
        "plt.hist(x, bins=30, density=True, alpha=0.4, label='yes');\n",
        "plt.hist(y, bins=30, density=True, alpha=0.4, label='no');"
      ]
    },
    {
      "cell_type": "markdown",
      "id": "d66368a6",
      "metadata": {
        "id": "d66368a6"
      },
      "source": [
        "Да, проблемы есть. Это выбросы. Хвосты на гистограммах оказываются очень длинными. Найдите медианы и средние для числа лайков. Сравните их между собой."
      ]
    },
    {
      "cell_type": "code",
      "execution_count": null,
      "id": "8c9c8185",
      "metadata": {
        "id": "8c9c8185",
        "colab": {
          "base_uri": "https://localhost:8080/"
        },
        "outputId": "08963d6b-f2bf-42eb-a687-c1527a33474e"
      },
      "outputs": [
        {
          "output_type": "execute_result",
          "data": {
            "text/plain": [
              "(2588.5, 2497.0)"
            ]
          },
          "metadata": {},
          "execution_count": 36
        }
      ],
      "source": [
        "### ╰( ͡° ͜ʖ ͡° )つ▬▬ι═══════  bzzzzzzzzzz\n",
        "# will the code be with you\n",
        "np.median(x), np.median(y)"
      ]
    },
    {
      "cell_type": "code",
      "source": [
        "np.mean(x), np.mean(y)"
      ],
      "metadata": {
        "colab": {
          "base_uri": "https://localhost:8080/"
        },
        "id": "faOUBM_U7sUg",
        "outputId": "14632da6-e2da-41d8-d4d3-fe5ac107dee2"
      },
      "id": "faOUBM_U7sUg",
      "execution_count": null,
      "outputs": [
        {
          "output_type": "execute_result",
          "data": {
            "text/plain": [
              "(2879.1828885400314, 2784.0432051478474)"
            ]
          },
          "metadata": {},
          "execution_count": 37
        }
      ]
    },
    {
      "cell_type": "markdown",
      "id": "363e8837",
      "metadata": {
        "id": "363e8837"
      },
      "source": [
        "Проверьте гипотезу о равенстве среднего числа лайков. Используйте для этого $z$-тест, основанный на ЦПТ. Дисперсию расчитывайте по выборке, используя несмещённую оценку `(ddof=1)`. Запишите наблюдаемое значение статистики в переменную `z_obs`."
      ]
    },
    {
      "cell_type": "code",
      "execution_count": null,
      "id": "dfa05f20",
      "metadata": {
        "id": "dfa05f20",
        "colab": {
          "base_uri": "https://localhost:8080/"
        },
        "outputId": "5e5e9c7c-ea99-459c-8b4c-487bc871c195"
      },
      "outputs": [
        {
          "output_type": "stream",
          "name": "stdout",
          "text": [
            "2.6644610922505323\n"
          ]
        }
      ],
      "source": [
        "### ╰( ͡° ͜ʖ ͡° )つ▬▬ι═══════  bzzzzzzzzzz\n",
        "# will the code be with you\n",
        "np.random.seed(121)\n",
        "n_x = len(x)\n",
        "n_y = len(y)\n",
        "\n",
        "mu_hat_x = x.mean()\n",
        "mu_hat_y = y.mean()\n",
        "var_hat_x = x.var(ddof=1)\n",
        "var_hat_y = y.var(ddof=1)\n",
        "z_obs = (mu_hat_x - mu_hat_y) / np.sqrt(var_hat_x / n_x + var_hat_y / n_y)\n",
        "print(z_obs)"
      ]
    },
    {
      "cell_type": "markdown",
      "id": "2fa0d550",
      "metadata": {
        "id": "2fa0d550"
      },
      "source": [
        "Найдите критическое значение статистики. Сравните его с наблюдаемым. Рассчитайте p-value для ситуации с двусторонней альтернативой. Сделайте вывод о выдвинутой гипотезе. Критическое значение статистики запишите в переменную `z_crit`, а p-значение в переменную `pval`."
      ]
    },
    {
      "cell_type": "code",
      "execution_count": null,
      "id": "afffe274",
      "metadata": {
        "id": "afffe274",
        "colab": {
          "base_uri": "https://localhost:8080/"
        },
        "outputId": "49fcd016-3128-4f2b-d2fd-253e5aece142"
      },
      "outputs": [
        {
          "output_type": "stream",
          "name": "stdout",
          "text": [
            "z_crit = 1.959963984540054\n",
            "pval = 0.0038555893027214516\n"
          ]
        }
      ],
      "source": [
        "### ╰( ͡° ͜ʖ ͡° )つ▬▬ι═══════  bzzzzzzzzzz\n",
        "# will the code be with you\n",
        "alpha = 0.05\n",
        "norm_rv = sts.norm()\n",
        "z_crit = norm_rv.ppf(1 - alpha / 2)\n",
        "pval = 1 - sts.norm.cdf(z_obs)\n",
        "print('z_crit =', z_crit)\n",
        "print('pval =', pval)"
      ]
    },
    {
      "cell_type": "markdown",
      "source": [
        "🐮 Согласно полученным результатам теста, наблюдаемое значение `z_obs` далеко от критического значения `z_crit` и `pval < alpha`. Гипотезу можно отвергнуть, т.к. два показателя указывают о статистической незначимости нулевой гипотезы."
      ],
      "metadata": {
        "id": "kkJIOGM08_cY"
      },
      "id": "kkJIOGM08_cY"
    },
    {
      "cell_type": "markdown",
      "id": "fb72f53a",
      "metadata": {
        "id": "fb72f53a"
      },
      "source": [
        "Можно заметить, что у распределения числа репостов длинные хвосты. В данных есть выбросы, которые завышают среднее значение. Если выбросы сильные, то ЦПТ может ломаться. Из-за этого имеет смысл в данном случае использовать другой критерий. Например, критерий Манна-Уитни.\n",
        "\n",
        "Найдите наблюдаемое значение статистики Манна-Уитни. Сравните его с критическим. Рассчитайте p-value для ситуации с двусторонней альтернативой. Сделайте вывод о выдвинутой гипотезе. Отличается ли полученный вывод от вывода\n",
        "z-теста?"
      ]
    },
    {
      "cell_type": "code",
      "source": [
        "x = df[df.I== True].reposts.values\n",
        "y = df[df.I == False].reposts.values\n",
        "\n",
        "plt.figure(figsize = (10, 5))\n",
        "plt.hist(x, bins=30, density=True, alpha=0.4, label='yes');\n",
        "plt.hist(y, bins=30, density=True, alpha=0.4, label='no');"
      ],
      "metadata": {
        "colab": {
          "base_uri": "https://localhost:8080/",
          "height": 445
        },
        "id": "G9owLAQ1Bckk",
        "outputId": "57ca3b93-4309-4ecf-f79d-b62056efd061"
      },
      "id": "G9owLAQ1Bckk",
      "execution_count": null,
      "outputs": [
        {
          "output_type": "display_data",
          "data": {
            "text/plain": [
              "<Figure size 1000x500 with 1 Axes>"
            ],
            "image/png": "[encoded data removed]"
          },
          "metadata": {}
        }
      ]
    },
    {
      "cell_type": "code",
      "execution_count": null,
      "id": "47db495f",
      "metadata": {
        "id": "47db495f",
        "colab": {
          "base_uri": "https://localhost:8080/"
        },
        "outputId": "85451b70-bd42-40cb-9328-09e496d86a89"
      },
      "outputs": [
        {
          "output_type": "execute_result",
          "data": {
            "text/plain": [
              "MannwhitneyuResult(statistic=8640671.0, pvalue=0.003728256596733177)"
            ]
          },
          "metadata": {},
          "execution_count": 47
        }
      ],
      "source": [
        "### ╰( ͡° ͜ʖ ͡° )つ▬▬ι═══════  bzzzzzzzzzz\n",
        "# will the code be with you\n",
        "\n",
        "sts.mannwhitneyu (x, y, alternative='two-sided')"
      ]
    },
    {
      "cell_type": "markdown",
      "source": [
        "🦒 Согласно полученным результатам гипотезу нулевую отвергаем, потому что `pval < alpha`."
      ],
      "metadata": {
        "id": "XczM_pDnIbVq"
      },
      "id": "XczM_pDnIbVq"
    },
    {
      "cell_type": "markdown",
      "id": "ec557ac8",
      "metadata": {
        "id": "ec557ac8"
      },
      "source": [
        "Проверьте гипотезу о мудрости с помощью бутстрапа. Нулевую гипотезу сформулируйте в терминах медиан."
      ]
    },
    {
      "cell_type": "code",
      "execution_count": null,
      "id": "038829cf",
      "metadata": {
        "id": "038829cf"
      },
      "outputs": [],
      "source": [
        "### ╰( ͡° ͜ʖ ͡° )つ▬▬ι═══════  bzzzzzzzzzz\n",
        "# will the code be with you\n",
        "def get_bootstrap_sample(x, B_sample=1):\n",
        "  n = x.size\n",
        "  sample = np.random.choice(x, size=(n, B_sample), replace=True)\n",
        "  if B_sample == 1:\n",
        "    sample = sample.T[0]\n",
        "  return sample"
      ]
    },
    {
      "cell_type": "code",
      "source": [
        "x_boot = get_bootstrap_sample(x, B_sample=10**5)\n",
        "x_boot = np.median(x_boot, axis=0)\n",
        "\n",
        "y_boot = get_bootstrap_sample(y, B_sample=10**5)\n",
        "y_boot = np.median(y_boot, axis=0)"
      ],
      "metadata": {
        "id": "PaFnRFid_cKM"
      },
      "id": "PaFnRFid_cKM",
      "execution_count": null,
      "outputs": []
    },
    {
      "cell_type": "code",
      "source": [
        "def stat_intervals(boot, alpha=0.05):\n",
        "  left = np.quantile(boot, alpha / 2)\n",
        "  right = np.quantile(boot, 1 - alpha / 2)\n",
        "  return left, right"
      ],
      "metadata": {
        "id": "wKVKwYvS_32a"
      },
      "id": "wKVKwYvS_32a",
      "execution_count": null,
      "outputs": []
    },
    {
      "cell_type": "code",
      "source": [
        "stat_intervals(x_boot)"
      ],
      "metadata": {
        "colab": {
          "base_uri": "https://localhost:8080/"
        },
        "id": "nZCu8ZoRAXS8",
        "outputId": "4a156482-36b4-4dc1-b97b-7229a8c67afa"
      },
      "id": "nZCu8ZoRAXS8",
      "execution_count": null,
      "outputs": [
        {
          "output_type": "execute_result",
          "data": {
            "text/plain": [
              "(94.0, 100.0)"
            ]
          },
          "metadata": {},
          "execution_count": 53
        }
      ]
    },
    {
      "cell_type": "code",
      "source": [
        "stat_intervals(y_boot)"
      ],
      "metadata": {
        "colab": {
          "base_uri": "https://localhost:8080/"
        },
        "id": "ctWlk_QTAcke",
        "outputId": "98ec85ef-8a98-461c-b239-f1af93c9df1f"
      },
      "id": "ctWlk_QTAcke",
      "execution_count": null,
      "outputs": [
        {
          "output_type": "execute_result",
          "data": {
            "text/plain": [
              "(91.0, 96.0)"
            ]
          },
          "metadata": {},
          "execution_count": 54
        }
      ]
    },
    {
      "cell_type": "code",
      "source": [
        "stat_intervals(x_boot - y_boot)"
      ],
      "metadata": {
        "colab": {
          "base_uri": "https://localhost:8080/"
        },
        "id": "syZbbHPqAu6A",
        "outputId": "2a7c4b7d-45af-4e7f-f302-7969d25fa7ff"
      },
      "id": "syZbbHPqAu6A",
      "execution_count": null,
      "outputs": [
        {
          "output_type": "execute_result",
          "data": {
            "text/plain": [
              "(-1.0, 7.0)"
            ]
          },
          "metadata": {},
          "execution_count": 55
        }
      ]
    },
    {
      "cell_type": "markdown",
      "source": [
        "🐯 Ноль попадает в доверительный интервал разности, поэтому на уровне значимости 5% есть пересечение интервалов для медиан. Нулевая гипотеза не отвергается."
      ],
      "metadata": {
        "id": "w669WCGcA197"
      },
      "id": "w669WCGcA197"
    },
    {
      "cell_type": "markdown",
      "id": "bd399171",
      "metadata": {
        "id": "bd399171"
      },
      "source": [
        "## [10 баллов] Задание 4 (мыши и зеркало)\n",
        "\n",
        "$16$ лабораторных мышей были помещены в двухкомнатные клетки, в одной из комнат висело зеркало. С целью установить, есть ли у мышей какие-то предпочтения насчет зеркал, измерялась доля времени, которое каждая мышь проводила в каждой из своих двух клеток.\n",
        "\n",
        "![](https://ars.els-cdn.com/content/image/1-s2.0-S0168159104000061-gr1.gif)\n",
        "\n",
        "В файле `mouses_mirror.txt` лежит информация о том, какую долю времени мышка проводила в клетке с зеркалом."
      ]
    },
    {
      "cell_type": "code",
      "execution_count": null,
      "id": "8796d379",
      "metadata": {
        "id": "8796d379",
        "colab": {
          "base_uri": "https://localhost:8080/",
          "height": 430
        },
        "outputId": "2f55ab75-6d2f-473e-f40c-e97c832d9604"
      },
      "outputs": [
        {
          "output_type": "display_data",
          "data": {
            "text/plain": [
              "<Figure size 640x480 with 1 Axes>"
            ],
            "image/png": "[encoded data removed]"
          },
          "metadata": {}
        }
      ],
      "source": [
        "url = 'https://drive.google.com/uc?id={}'.format('1rAbVMura4NSNft-05RjiK4B13FvtdgJ5')\n",
        "x = pd.read_csv(url, header = None)[0].values\n",
        "plt.hist(x, density=True);"
      ]
    },
    {
      "cell_type": "markdown",
      "id": "a6e7a678",
      "metadata": {
        "id": "a6e7a678"
      },
      "source": [
        "Проверьте гипотезу о том, что мышкам безразлично в какой комнате проводить время с помощью критерия знаков. Сформулируйте нулевую гипотезу, перечислите основные особенности этого критерия. Запишите в переменную `pvalue_1` получившееся в результате этого $p$-значение."
      ]
    },
    {
      "cell_type": "code",
      "source": [
        "y = 1 - x # время проведенное в комнате без зеркала"
      ],
      "metadata": {
        "id": "EwOdFV1lxqKv"
      },
      "id": "EwOdFV1lxqKv",
      "execution_count": null,
      "outputs": []
    },
    {
      "cell_type": "code",
      "execution_count": null,
      "id": "922a754d",
      "metadata": {
        "id": "922a754d",
        "colab": {
          "base_uri": "https://localhost:8080/"
        },
        "outputId": "15427405-3583-4900-a799-d3458c0f0f87"
      },
      "outputs": [
        {
          "output_type": "execute_result",
          "data": {
            "text/plain": [
              "0.021270751953125"
            ]
          },
          "metadata": {},
          "execution_count": 7
        }
      ],
      "source": [
        "### ╰( ͡° ͜ʖ ͡° )つ▬▬ι═══════  bzzzzzzzzzz\n",
        "# will the code be with you\n",
        "from statsmodels.stats.descriptivestats import sign_test\n",
        "\n",
        "_, pvalue_1 = sign_test(x - y)\n",
        "pvalue_1"
      ]
    },
    {
      "cell_type": "markdown",
      "source": [
        "🐑 Нулевая гипотеза состоит в том, что время проведенное мышек в комнате с зеркалом и без одинаковы. Мы применяем знаковый критерий двухвыборочный для связанных выборок. Получаем, что `pvalue_1 < alpha`, значит гипотеза отвергается."
      ],
      "metadata": {
        "id": "Gb-Nqp5XzS67"
      },
      "id": "Gb-Nqp5XzS67"
    },
    {
      "cell_type": "markdown",
      "id": "a696207c",
      "metadata": {
        "id": "a696207c"
      },
      "source": [
        "Проверьте гипотезу о том, что мышкам безразлично в какой комнате проводить время с помощью теста Вилкоксона. Сформулируйте нулевую гипотезу, перечислите основные особенности этого критерия.  Запишите в переменную `pvalue_2` получившееся в результате этого $p$-значение."
      ]
    },
    {
      "cell_type": "code",
      "execution_count": null,
      "id": "49371478",
      "metadata": {
        "id": "49371478",
        "colab": {
          "base_uri": "https://localhost:8080/"
        },
        "outputId": "e0664276-05f0-48c0-984b-29a685813599"
      },
      "outputs": [
        {
          "output_type": "execute_result",
          "data": {
            "text/plain": [
              "0.09344482421875"
            ]
          },
          "metadata": {},
          "execution_count": 30
        }
      ],
      "source": [
        "### ╰( ͡° ͜ʖ ͡° )つ▬▬ι═══════  bzzzzzzzzzz\n",
        "# will the code be with you\n",
        "\n",
        "_, pvalue_2 = sts.wilcoxon(x, y)\n",
        "pvalue_2"
      ]
    },
    {
      "cell_type": "markdown",
      "source": [
        "🐧 Гипотеза о том, что мышкам безразлично в какой комнате проводить время с помощью теста Вилкоксона показал положительный результат `pvalue_2 > alpha`, поэтому гипотезу можно принять."
      ],
      "metadata": {
        "id": "47IMtCc14e4H"
      },
      "id": "47IMtCc14e4H"
    },
    {
      "cell_type": "markdown",
      "id": "c86523d5",
      "metadata": {
        "id": "c86523d5"
      },
      "source": [
        "Проверьте гипотезу о том, что мышкам безразлично в какой комнате проводить время с помощью асимптотического $z$-теста. Сформулируйте нулевую гипотезу, перечислите основные особенности этого критерия.  Запишите в переменную `pvalue_3` получившееся в результате этого $p$-значение."
      ]
    },
    {
      "cell_type": "code",
      "execution_count": null,
      "id": "1a1a6be6",
      "metadata": {
        "id": "1a1a6be6",
        "colab": {
          "base_uri": "https://localhost:8080/"
        },
        "outputId": "998fc956-d374-444d-929d-1b467ced6d9b"
      },
      "outputs": [
        {
          "output_type": "stream",
          "name": "stdout",
          "text": [
            "-0.11416433565289634 0.015319910652896354\n",
            "-1.4961782502486838 0.13460721078205815\n"
          ]
        }
      ],
      "source": [
        "from statsmodels.stats.weightstats import ztest,zconfint\n",
        "\n",
        "### ╰( ͡° ͜ʖ ͡° )つ▬▬ι═══════  bzzzzzzzzzz\n",
        "# will the code be with you\n",
        "left, right = zconfint(x - y)\n",
        "print(left, right)\n",
        "stat, pvalue_3 = ztest(x - y)\n",
        "print(stat, pvalue_3)"
      ]
    },
    {
      "cell_type": "markdown",
      "source": [
        "🪲 Нулевая гипотеза по прежнему об одинаковой распределенности времени в двух комнатах не отвергается, потому что `pvalue_3 > alpha`. Хотя наблюдаемая статистика не попадает в доверительный интервал."
      ],
      "metadata": {
        "id": "mlKbxCrR64Sl"
      },
      "id": "mlKbxCrR64Sl"
    },
    {
      "cell_type": "code",
      "execution_count": null,
      "id": "135a7e69",
      "metadata": {
        "id": "135a7e69"
      },
      "outputs": [],
      "source": [
        "# проверка того, что задание решено верно\n",
        "assert pvalue_1 < 0.05\n",
        "assert pvalue_2 > 0.05\n",
        "assert pvalue_3 > 0.05"
      ]
    },
    {
      "cell_type": "markdown",
      "id": "13b27ac4",
      "metadata": {
        "id": "13b27ac4"
      },
      "source": [
        "Объясните, почему `pvalue` от теста к тесту ведёт себя именно так. Подробнее про опыт с мышками читайте [в оригинальном исследовании.](https://www.sciencedirect.com/science/article/abs/pii/S0168159104000061)\n",
        "\n",
        "🦩__Ответ:__ Получаем разные значения `pvalue`, потому что есть связанность выборок и в разных подходах теряется информация. Согласно результатам исследований на мышах описанных в статье, зеркало негативно воспринимается грызунами и принято решение не обогащать помещение зеркалами для подопытных."
      ]
    },
    {
      "cell_type": "markdown",
      "id": "abaa42dd",
      "metadata": {
        "id": "abaa42dd"
      },
      "source": [
        "## [10 баллов] Задание 5 (ломаем тест Манна-Уитни)\n",
        "\n",
        "Придумайте пример, на котором тест Манна-Уитни не будет работать.\n",
        "\n",
        "__Hint:__ Главная предпосылка теста заключается в том, что распределение не меняется, но у него происходит сдвиг. Воспользуйтесь этим.\n",
        "\n",
        "\\begin{equation*}\n",
        "    \\begin{aligned}\n",
        "    & H_0: F_X(x) = F_Y(y) \\\\\n",
        "    & H_A: F_X(x) = F_Y(y + m), m \\ne 0\n",
        "    \\end{aligned}\n",
        "\\end{equation*}\n",
        "\n",
        "\n",
        "<center>\n",
        "<img src='https://raw.githubusercontent.com/hse-econ-data-science/andan_2023/main/sem12_more_ab/mw.png' align='center' width=\"300x\">\n",
        "</center>\n"
      ]
    },
    {
      "cell_type": "markdown",
      "source": [
        "🦏 Использовала материалы из статьи https://habr.com/ru/companies/avito/articles/709596/"
      ],
      "metadata": {
        "id": "sB__HWd1nXvf"
      },
      "id": "sB__HWd1nXvf"
    },
    {
      "cell_type": "code",
      "source": [
        "from statsmodels.stats.proportion import proportion_confint\n",
        "\n",
        "alpha = 0.05\n",
        "mann_bad_cnt = 0\n",
        "ttest_bad_cnt = 0\n",
        "\n",
        "sz = 1000\n",
        "for i in range(sz):\n",
        "    test = sts.uniform(loc=-1, scale=2).rvs(1000) # U[-1, 1]\n",
        "    control = sts.uniform(loc=-10, scale=20).rvs(1000) # U[-10, 10]\n",
        "\n",
        "    mann_pvalue = sts.mannwhitneyu(control, test, alternative='two-sided').pvalue\n",
        "    ttest_pvalue = sts.ttest_ind(control, test, alternative='two-sided').pvalue\n",
        "\n",
        "    if mann_pvalue < alpha:\n",
        "        mann_bad_cnt += 1\n",
        "\n",
        "    if ttest_pvalue < alpha:\n",
        "        ttest_bad_cnt += 1\n",
        "\n",
        "left_mann_level, right_mann_level = proportion_confint(count = mann_bad_cnt, nobs = sz, alpha=0.05, method='wilson')\n",
        "left_ttest_level, right_ttest_level = proportion_confint(count = ttest_bad_cnt, nobs = sz, alpha=0.05, method='wilson')\n",
        "\n",
        "print(f\"Mann-whitneyu significance level: {round(mann_bad_cnt / sz, 4)}, [{round(left_mann_level, 4)}, {round(right_mann_level, 4)}]\")\n",
        "print(f\"T-test significance level: {round(ttest_bad_cnt / sz, 4)}, [{round(left_ttest_level, 4)}, {round(right_ttest_level, 4)}]\")"
      ],
      "metadata": {
        "colab": {
          "base_uri": "https://localhost:8080/"
        },
        "id": "I9CszzGXDHBM",
        "outputId": "b6d175b1-23d8-462a-f4e0-8a347f1f71a4"
      },
      "id": "I9CszzGXDHBM",
      "execution_count": null,
      "outputs": [
        {
          "output_type": "stream",
          "name": "stdout",
          "text": [
            "Mann-whitneyu significance level: 0.108, [0.0902, 0.1288]\n",
            "T-test significance level: 0.045, [0.0338, 0.0597]\n"
          ]
        }
      ]
    },
    {
      "cell_type": "code",
      "source": [
        "from statsmodels.stats.proportion import proportion_confint\n",
        "\n",
        "alpha = 0.05\n",
        "mann_bad_cnt = 0\n",
        "ttest_bad_cnt = 0\n",
        "\n",
        "sz = 1000\n",
        "for i in range(sz):\n",
        "    test = sts.uniform(loc=-10, scale=20).rvs(1000) # U[-1, 1]\n",
        "    control = sts.uniform(loc=-10, scale=20).rvs(1000) # U[-10, 10]\n",
        "\n",
        "    mann_pvalue = sts.mannwhitneyu(control, test, alternative='two-sided').pvalue\n",
        "    ttest_pvalue = sts.ttest_ind(control, test, alternative='two-sided').pvalue\n",
        "\n",
        "    if mann_pvalue < alpha:\n",
        "        mann_bad_cnt += 1\n",
        "\n",
        "    if ttest_pvalue < alpha:\n",
        "        ttest_bad_cnt += 1\n",
        "\n",
        "left_mann_level, right_mann_level = proportion_confint(count = mann_bad_cnt, nobs = sz, alpha=0.05, method='wilson')\n",
        "left_ttest_level, right_ttest_level = proportion_confint(count = ttest_bad_cnt, nobs = sz, alpha=0.05, method='wilson')\n",
        "\n",
        "print(f\"Mann-whitneyu significance level: {round(mann_bad_cnt / sz, 4)}, [{round(left_mann_level, 4)}, {round(right_mann_level, 4)}]\")\n",
        "print(f\"T-test significance level: {round(ttest_bad_cnt / sz, 4)}, [{round(left_ttest_level, 4)}, {round(right_ttest_level, 4)}]\")"
      ],
      "metadata": {
        "colab": {
          "base_uri": "https://localhost:8080/"
        },
        "id": "qjoVsnX5DOwz",
        "outputId": "2fce7c07-6ce0-42ce-c294-db794580964a"
      },
      "id": "qjoVsnX5DOwz",
      "execution_count": null,
      "outputs": [
        {
          "output_type": "stream",
          "name": "stdout",
          "text": [
            "Mann-whitneyu significance level: 0.053, [0.0407, 0.0687]\n",
            "T-test significance level: 0.053, [0.0407, 0.0687]\n"
          ]
        }
      ]
    },
    {
      "cell_type": "markdown",
      "source": [
        "🦆 Чтобы показать, что тест Манна-Уитни может работать некорректно, можно рассмотреть разные распределения, но их средние и медианы равны. Генерируем выборки из распределений равномерных `U[-1,1]` и `U[-10,10]`. Вначале зафиксировав уровень значимости, мы должны были при проверке гипотезы об одинаковой распределенности получить больше отвержений и, наоборот при проверке гипотезы о равных средних или медианах меньше отвержений нулевой гипотезы, в реальности получили около 11%. Для сравнения был использован тест Стьюдента, который отклонял принятие гипотезы в районе допустимой ошибки `alpha`. Для того, чтобы проверить корректную работу теста Манна-Уитни для одинаковых распределений были построены тесты с одинаковым распределением `U[-1,1]`. Для этих выборок ошибки оказались в пределах уровня значимости."
      ],
      "metadata": {
        "id": "4gUYrqQVIU4-"
      },
      "id": "4gUYrqQVIU4-"
    },
    {
      "cell_type": "markdown",
      "id": "6d13f614",
      "metadata": {
        "id": "6d13f614"
      },
      "source": [
        "## [10 баллов] Задание 6 (проблема подглядывания)\n",
        "\n",
        "Предположим, что мы отошли от классической схемы проведения АБ тестов и решили подводить итоги на уровне значимости 5% каждый день. Мы держим тест две недели. Если хотябы в один из дней p-value оказывается ниже $0.05,$ мы останавливаем тест и делаем выводы, что гипотеза не отвергается.\n",
        "\n",
        "Так делать нельзя. Это называется проблемой подглядывания. В случае такой процедуры уровень значимости выходит из-под контроля. Давайте убедимся в этом с помощью симуляций.\n",
        "\n",
        "- Запланируйте АБ-тест для долей таким образом, чтобы ошибка 1 и 2 рода были равны 5%. В качестве MDE возьмите любое значение.\n",
        "- Сгенерируйте нужное количество наблюдений. Разбейте его на 14 частей (тест идет 2 недели)\n",
        "- Проверяйте гипотезу каждый день и останавливайтесь, если она не отвергается\n",
        "- Какими оказались ошибки 1 и 2 рода в реальности?\n",
        "\n",
        "Симуляции надо провести отдельно для верности нулевой гипотезы и отдельно для верности альтернативной гипотезы."
      ]
    },
    {
      "cell_type": "code",
      "execution_count": 2,
      "id": "a9047438",
      "metadata": {
        "id": "a9047438"
      },
      "outputs": [],
      "source": [
        "### ╰( ͡° ͜ʖ ͡° )つ▬▬ι═══════  bzzzzzzzzzz\n",
        "# will the code be with you\n",
        "def get_size(p0, pa, alpha, beta):\n",
        "  za = sts.norm.ppf(1 - alpha)\n",
        "  zb = sts.norm.ppf(1 - beta)\n",
        "  n = za * np.sqrt(p0 * (1 - p0)) + zb * np.sqrt(pa * (1 - pa))\n",
        "  n /= (pa - p0)\n",
        "  return int(np.ceil(n * n))"
      ]
    },
    {
      "cell_type": "code",
      "source": [
        "sz = get_size(0.1, 0.14, 0.05, 0.05)\n",
        "sz"
      ],
      "metadata": {
        "colab": {
          "base_uri": "https://localhost:8080/"
        },
        "id": "6noIBhKQQVo7",
        "outputId": "4e507422-dc89-4c1d-cd84-6d18c89928d1"
      },
      "id": "6noIBhKQQVo7",
      "execution_count": 75,
      "outputs": [
        {
          "output_type": "execute_result",
          "data": {
            "text/plain": [
              "708"
            ]
          },
          "metadata": {},
          "execution_count": 75
        }
      ]
    },
    {
      "cell_type": "markdown",
      "source": [
        "### 🐦 В первой симуляции мы генерируем выборку из распределения Бернулли с `p=0.1`.\n",
        "Проводим `A/A` тесты для демонстрации негативного эффекта подглядывания, т.е. тест останавливается тогда, когда выполняется условие `pvalue<alpha`. Всего количество симуляций 10000."
      ],
      "metadata": {
        "id": "aMWf7GxteevX"
      },
      "id": "aMWf7GxteevX"
    },
    {
      "cell_type": "code",
      "source": [
        "from statsmodels.stats.weightstats import ztest\n",
        "\n",
        "#A/A tests\n",
        "# Заводим счетчики количества отвергнутых гипотез для z-test\n",
        "z_cnt = 0\n",
        "ttest_bad_cnt = 0\n",
        "global_num = 10000\n",
        "num_experiments = 14\n",
        "sz_day = int(sz / num_experiments + 1)\n",
        "for _ in range(global_num):\n",
        "  control = sts.bernoulli(p=0.1).rvs(sz_day * num_experiments)\n",
        "  test = sts.bernoulli(p=0.1).rvs(sz_day * num_experiments)\n",
        "  for i in range(num_experiments):\n",
        "      # Проверяем гипотезу\n",
        "      _, zpval = ztest(test[i * sz_day : (i + 1) * sz_day - 1], control[i * sz_day : (i + 1) * sz_day - 1])\n",
        "      if zpval < 0.05:\n",
        "          z_cnt += 1\n",
        "          break\n",
        "\n",
        "# Выводим результаты\n",
        "print(f\"Z test power: {round(z_cnt / global_num, 4)}\")"
      ],
      "metadata": {
        "colab": {
          "base_uri": "https://localhost:8080/"
        },
        "id": "F83NQ4w1RTpL",
        "outputId": "e76ec8a9-bcc8-4a0a-9b20-e5fa917b10f5"
      },
      "id": "F83NQ4w1RTpL",
      "execution_count": 76,
      "outputs": [
        {
          "output_type": "stream",
          "name": "stdout",
          "text": [
            "Z test power: 0.5802\n"
          ]
        }
      ]
    },
    {
      "cell_type": "markdown",
      "source": [
        "🦓 Проводим те же A/A тесты, но проверка условия `pvalue<alpha` проводится только в конце эксперимента в последний 14-й день."
      ],
      "metadata": {
        "id": "S9dXpOlVhluX"
      },
      "id": "S9dXpOlVhluX"
    },
    {
      "cell_type": "code",
      "source": [
        "from statsmodels.stats.weightstats import ztest\n",
        "\n",
        "#A/A tests\n",
        "# Заводим счетчики количества отвергнутых гипотез для z-test\n",
        "z_cnt = 0\n",
        "ttest_bad_cnt = 0\n",
        "global_num = 10000\n",
        "num_experiments = 14\n",
        "sz_day = int(sz / num_experiments + 1)\n",
        "for _ in range(global_num):\n",
        "  control = sts.bernoulli(p=0.1).rvs(sz_day * num_experiments)\n",
        "  test = sts.bernoulli(p=0.1).rvs(sz_day * num_experiments)\n",
        "  for i in range(num_experiments):\n",
        "      # Проверяем гипотезу\n",
        "      _, zpval = ztest(test[i * sz_day : (i + 1) * sz_day - 1], control[i * sz_day : (i + 1) * sz_day - 1])\n",
        "  if zpval < 0.05:\n",
        "      z_cnt += 1\n",
        "\n",
        "# Выводим результаты\n",
        "print(f\"Z test power: {round(z_cnt / global_num, 4)}\")"
      ],
      "metadata": {
        "colab": {
          "base_uri": "https://localhost:8080/"
        },
        "id": "PalueZKjhPuD",
        "outputId": "eacf653c-4dc9-4aee-aabe-687ee9342661"
      },
      "id": "PalueZKjhPuD",
      "execution_count": 86,
      "outputs": [
        {
          "output_type": "stream",
          "name": "stdout",
          "text": [
            "Z test power: 0.057\n"
          ]
        }
      ]
    },
    {
      "cell_type": "markdown",
      "source": [
        "🐎 **Результаты**\n",
        "\n",
        "*  в первом примере мы получили 58% ложноположительных результатов, только лишь из-за того, что подглядывали за экспериментами,\n",
        "*   а во втором примере, все в по плану, ошибка I рода была допущена в пределах `alpha`."
      ],
      "metadata": {
        "id": "FaXwbOdjencu"
      },
      "id": "FaXwbOdjencu"
    },
    {
      "cell_type": "markdown",
      "source": [
        "### 🦣 Во второй симуляции мы генерируем выборку из распределения Бернулли с `p=0.1` и `p=0.15`.\n",
        "Проводим A/B тесты."
      ],
      "metadata": {
        "id": "Oi_uf3_ni7oB"
      },
      "id": "Oi_uf3_ni7oB"
    },
    {
      "cell_type": "code",
      "source": [
        "from statsmodels.stats.weightstats import ztest\n",
        "\n",
        "#A/B tests\n",
        "# Заводим счетчики количества отвергнутых гипотез для z-test\n",
        "z_cnt = 0\n",
        "ttest_bad_cnt = 0\n",
        "global_num = 10000\n",
        "num_experiments = 14\n",
        "sz_day = int(sz / num_experiments + 1)\n",
        "for _ in range(global_num):\n",
        "  control = sts.bernoulli(p=0.1).rvs(sz_day * num_experiments)\n",
        "  test = sts.bernoulli(p=0.14).rvs(sz_day * num_experiments)\n",
        "  for i in range(num_experiments):\n",
        "      # Проверяем гипотезу\n",
        "      _, zpval = ztest(test[i * sz_day : (i + 1) * sz_day - 1], control[i * sz_day : (i + 1) * sz_day - 1])\n",
        "      if zpval < 0.05:\n",
        "          z_cnt += 1\n",
        "          break\n",
        "\n",
        "# Выводим результаты\n",
        "print(f\"Z test power: {round(z_cnt / global_num, 4)}\")"
      ],
      "metadata": {
        "colab": {
          "base_uri": "https://localhost:8080/"
        },
        "id": "-J-2WdEIeLLp",
        "outputId": "60fa4525-aed6-48f5-ff72-fd46a049a188"
      },
      "id": "-J-2WdEIeLLp",
      "execution_count": 78,
      "outputs": [
        {
          "output_type": "stream",
          "name": "stdout",
          "text": [
            "Z test power: 0.8491\n"
          ]
        }
      ]
    },
    {
      "cell_type": "code",
      "source": [
        "from statsmodels.stats.weightstats import ztest\n",
        "\n",
        "#A/A tests\n",
        "# Заводим счетчики количества отвергнутых гипотез для z-test\n",
        "z_cnt = 0\n",
        "ttest_bad_cnt = 0\n",
        "global_num = 10000\n",
        "num_experiments = 14\n",
        "sz_day = int(sz / num_experiments + 1)\n",
        "for _ in range(global_num):\n",
        "  control = sts.bernoulli(p=0.1).rvs(sz_day * num_experiments)\n",
        "  test = sts.bernoulli(p=0.14).rvs(sz_day * num_experiments)\n",
        "  for i in range(num_experiments):\n",
        "      # Проверяем гипотезу\n",
        "      _, zpval = ztest(test[i * sz_day : (i + 1) * sz_day - 1], control[i * sz_day : (i + 1) * sz_day - 1])\n",
        "  if zpval < 0.05:\n",
        "      z_cnt += 1\n",
        "\n",
        "# Выводим результаты\n",
        "print(f\"Z test power: {round(z_cnt / global_num, 4)}\")"
      ],
      "metadata": {
        "colab": {
          "base_uri": "https://localhost:8080/"
        },
        "id": "NBIEb7eujYxO",
        "outputId": "3a467a10-ba11-4d9e-cc16-ce56b2fdb215"
      },
      "id": "NBIEb7eujYxO",
      "execution_count": 79,
      "outputs": [
        {
          "output_type": "stream",
          "name": "stdout",
          "text": [
            "Z test power: 0.1242\n"
          ]
        }
      ]
    },
    {
      "cell_type": "markdown",
      "source": [
        "🦤 **Результаты**\n",
        "\n",
        "*  в первом примере мы получили 85% положительных результатов с подглядыванием за экспериментами,\n",
        "*   а во втором примере, все в по плану, гипотеза не отвергается."
      ],
      "metadata": {
        "id": "WaiNNd7MjgVm"
      },
      "id": "WaiNNd7MjgVm"
    },
    {
      "cell_type": "markdown",
      "id": "635890af",
      "metadata": {
        "id": "635890af"
      },
      "source": [
        "## [20 баллов] Задание 7 (онлифанс)\n",
        "\n",
        "Эта задача на то, что ты выигрываешь или проигрываешь, если отказываешься от АБ-тестов и просто принимаешь решение об изенениях по среднему. Задание довольно творческое, так как способ симуляции вам предстоит придумать самостоятельно.\n",
        "\n",
        "У Аделины и Беллы есть аккаунты на онлифанс с конверсией $p=0.2\\%$. Они меняют вёрстки и смотрят, как дела с деньгами. Белла нанаяла аналитика и принимает решения об изменениях по $p-value < 0.05,$ а Аделина просто смотрит на среднее и катит по нему. Например, если на старом дизайне из тысячи посетителей только $299$ оставило копеечку, а на новом — $300$, берём новый. Если наоборот — оставляем старый.\n",
        "\n",
        "Пусть у каждой было $100$ правочек. Правочки одинаковые для обеих девушек. На них работает один и тот же фронтендер. Будем считать, что правочки независимы друг от друга. То есть, в какой бы момент мы не выкатили правочку, у нас всегда от неё будет одинаковое воздействие на конверсию. У каждой девушки было $100$ правочек. Кто после сотни правочек вырвется вперёд по конверсии?"
      ]
    },
    {
      "cell_type": "code",
      "execution_count": null,
      "id": "63d607e7",
      "metadata": {
        "id": "63d607e7"
      },
      "outputs": [],
      "source": [
        "### ╰( ͡° ͜ʖ ͡° )つ▬▬ι═══════  bzzzzzzzzzz\n",
        "# will the code be with you\n",
        "\n",
        "# your code here\n"
      ]
    },
    {
      "cell_type": "markdown",
      "id": "ee37538d",
      "metadata": {
        "id": "ee37538d"
      },
      "source": []
    }
  ],
  "metadata": {
    "kernelspec": {
      "display_name": "Python 3 (ipykernel)",
      "language": "python",
      "name": "python3"
    },
    "language_info": {
      "codemirror_mode": {
        "name": "ipython",
        "version": 3
      },
      "file_extension": ".py",
      "mimetype": "text/x-python",
      "name": "python",
      "nbconvert_exporter": "python",
      "pygments_lexer": "ipython3",
      "version": "3.10.9"
    },
    "colab": {
      "provenance": [],
      "include_colab_link": true
    }
  },
  "nbformat": 4,
  "nbformat_minor": 5
}